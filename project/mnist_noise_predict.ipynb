{
  "nbformat": 4,
  "nbformat_minor": 0,
  "metadata": {
    "colab": {
      "name": "mnist_noise_predict.ipynb",
      "version": "0.3.2",
      "provenance": [],
      "collapsed_sections": [],
      "include_colab_link": true
    },
    "kernelspec": {
      "display_name": "Python 3",
      "language": "python",
      "name": "python3"
    }
  },
  "cells": [
    {
      "cell_type": "markdown",
      "metadata": {
        "id": "view-in-github",
        "colab_type": "text"
      },
      "source": [
        "<a href=\"https://colab.research.google.com/github/liyzcj/ann/blob/master/project/mnist_noise_predict.ipynb\" target=\"_parent\"><img src=\"https://colab.research.google.com/assets/colab-badge.svg\" alt=\"Open In Colab\"/></a>"
      ]
    },
    {
      "metadata": {
        "colab_type": "text",
        "id": "tmaHAc_KHG_5"
      },
      "cell_type": "markdown",
      "source": [
        "# Feed-forward nets for image classification"
      ]
    },
    {
      "metadata": {
        "colab_type": "text",
        "id": "zgNIWhzoHOIz"
      },
      "cell_type": "markdown",
      "source": [
        "## 1. The MNIST dataset"
      ]
    },
    {
      "metadata": {
        "colab_type": "code",
        "id": "dQiqJyO7E7Ek",
        "outputId": "c56149dd-6bd1-4388-a5df-c3e1b8e11a94",
        "colab": {
          "base_uri": "https://localhost:8080/",
          "height": 51
        }
      },
      "cell_type": "code",
      "source": [
        "!pip install mnist\n",
        "\n",
        "import mnist\n",
        "train_imgs = mnist.train_images()\n",
        "train_labels = mnist.train_labels()\n",
        "test_imgs = mnist.test_images()\n",
        "test_labels  = mnist.test_labels()"
      ],
      "execution_count": 0,
      "outputs": [
        {
          "output_type": "stream",
          "text": [
            "Requirement already satisfied: mnist in /usr/local/lib/python3.6/dist-packages (0.2.2)\n",
            "Requirement already satisfied: numpy in /usr/local/lib/python3.6/dist-packages (from mnist) (1.14.6)\n"
          ],
          "name": "stdout"
        }
      ]
    },
    {
      "metadata": {
        "id": "_w8fSzEISK1Q",
        "colab_type": "text"
      },
      "cell_type": "markdown",
      "source": [
        "### Data standardization\n",
        "\n",
        "Rescale input values to have zero mean and standard deviation of one."
      ]
    },
    {
      "metadata": {
        "id": "9MoH54RESK1S",
        "colab_type": "code",
        "colab": {}
      },
      "cell_type": "code",
      "source": [
        "mean, std  = train_imgs.mean(), train_imgs.std()\n",
        "train_imgs = (train_imgs - mean) / std\n",
        "test_imgs = (test_imgs - mean) / std"
      ],
      "execution_count": 0,
      "outputs": []
    },
    {
      "metadata": {
        "id": "IwCOKJlFSK1V",
        "colab_type": "text"
      },
      "cell_type": "markdown",
      "source": [
        "### See some inputs"
      ]
    },
    {
      "metadata": {
        "colab_type": "code",
        "id": "qeftJ_CpE7Eu",
        "colab": {}
      },
      "cell_type": "code",
      "source": [
        "from typing import List\n",
        "import numpy as np\n",
        "%matplotlib inline\n",
        "import matplotlib.pyplot as plt"
      ],
      "execution_count": 0,
      "outputs": []
    },
    {
      "metadata": {
        "colab_type": "text",
        "id": "ZgERUA07IuSr"
      },
      "cell_type": "markdown",
      "source": [
        "## 2. Building feed forward-networks"
      ]
    },
    {
      "metadata": {
        "id": "euood119SK1b",
        "colab_type": "text"
      },
      "cell_type": "markdown",
      "source": [
        "### Layers\n",
        "\n",
        "Each layer will have three methods:\n",
        " - `forward` computes and returns ${\\bf y}^{(l)} = f_l\\left({\\bf x}^{(l)}, {\\bf w}^{(l)}\\right)$\n",
        " - `backward` gets $\\frac{\\partial {\\cal L}}{\\partial {\\bf y}^{(l)}}$, and stores $\\frac{\\partial {\\cal L}}{\\partial {\\bf w}^{(l)}}$ internally, and returns $\\frac{\\partial {\\cal L}}{\\partial {\\bf w}^{(l)}}$\n",
        " - `update` modifies parameters ${\\bf w}^{(l)}$ using stored $\\frac{\\partial{\\cal L}}{\\partial{\\bf w}}$"
      ]
    },
    {
      "metadata": {
        "id": "GgiAeyrmSK1b",
        "colab_type": "code",
        "colab": {}
      },
      "cell_type": "code",
      "source": [
        "class Layer:\n",
        "\n",
        "    def forward(self, x: np.ndarray) -> np.ndarray:\n",
        "        raise NotImplementedError\n",
        "        \n",
        "    def backward(self, x: np.ndarray, dy: np.ndarray) -> np.ndarray:\n",
        "        raise NotImplementedError\n",
        "        \n",
        "    def update(self, *args, **kwargs):\n",
        "        pass  # If a layer has no parameters, then this function does nothing"
      ],
      "execution_count": 0,
      "outputs": []
    },
    {
      "metadata": {
        "id": "9I0y4z69SK1f",
        "colab_type": "text"
      },
      "cell_type": "markdown",
      "source": [
        "### The feed-forward netowork"
      ]
    },
    {
      "metadata": {
        "id": "Sw3BfX0CSK1g",
        "colab_type": "code",
        "colab": {}
      },
      "cell_type": "code",
      "source": [
        "class FeedForwardNetwork:\n",
        "    \n",
        "    def __init__(self, layers: List[Layer]):\n",
        "        self.layers = layers\n",
        "        \n",
        "    def forward(self, x: np.ndarray, train: bool = True) -> np.ndarray:\n",
        "        self._inputs = []\n",
        "        for layer in self.layers:\n",
        "            if train:\n",
        "                self._inputs.append(x)\n",
        "            x = layer.forward(x)\n",
        "        return x\n",
        "    \n",
        "    def backward(self, dy:np.ndarray) -> np.ndarray:\n",
        "        # TODO <0> : Compute the backward phase\n",
        "        \"\"\"\n",
        "        LI YANZHE\n",
        "        \"\"\"\n",
        "        for layer in self.layers[::-1]:\n",
        "            dy = layer.backward(self._inputs.pop(), dy)\n",
        "            \n",
        "        # return dy\n",
        "        #raise NotImplementedError\n",
        "        del self._inputs\n",
        "    \n",
        "    def update(self, *args, **kwargs):\n",
        "        for layer in self.layers:\n",
        "            layer.update(*args, **kwargs)"
      ],
      "execution_count": 0,
      "outputs": []
    },
    {
      "metadata": {
        "id": "IHZtlZ7jSK1i",
        "colab_type": "text"
      },
      "cell_type": "markdown",
      "source": [
        "### The linear layer"
      ]
    },
    {
      "metadata": {
        "colab_type": "code",
        "id": "S47ZsyKdE7FF",
        "colab": {}
      },
      "cell_type": "code",
      "source": [
        "class Linear(Layer):\n",
        "    \n",
        "    def __init__(self, insize: int, outsize: int) -> None:\n",
        "        bound = np.sqrt(6. / insize)\n",
        "        self.weight = np.random.uniform(-bound, bound, (insize, outsize))\n",
        "        self.bias = np.zeros((outsize,))\n",
        "        \n",
        "        self.dweight = np.zeros_like(self.weight)\n",
        "        self.dbias = np.zeros_like(self.bias)\n",
        "        # for nesterov\n",
        "        self.vw = np.zeros_like(self.dweight)\n",
        "        self.vb = np.zeros_like(self.bias)\n",
        "        # for adam\n",
        "        self.mw = np.zeros_like(self.dweight)\n",
        "        self.mb = np.zeros_like(self.bias)\n",
        "        self.iter = 1\n",
        "#         # for nestrov\n",
        "#         self.v = np.zeros_like(self.dweight)\n",
        "#         self.vw = np.zeros_likei(self.bias)\n",
        "#         self.last_dweight = np.zeros_like(self.dweight)\n",
        "#         self.last_bias = np.zeros_like(self.bias)\n",
        "#         self.flag = 0\n",
        "        \n",
        "    def forward(self, x: np.ndarray) -> np.ndarray:\n",
        "        # TODO <1> : compute the output of a linear layer\n",
        "        \"\"\"\n",
        "        LI YANZHE\n",
        "        \"\"\"\n",
        "        out = np.dot(x, self.weight) + self.bias\n",
        "        # self.a = output\n",
        "        return out\n",
        "        raise NotImplementedError\n",
        "    \n",
        "    def backward(self, x: np.ndarray, dy: np.ndarray) -> np.ndarray:\n",
        "        # TODO <2> : compute dweight, dbias and  return dx\n",
        "        \"\"\"\n",
        "        LI YANZHE\n",
        "        \"\"\"\n",
        "        self.dweight = np.dot(np.transpose(x), dy)\n",
        "        self.dbias = np.sum(dy, axis=0)\n",
        "        \n",
        "        dx = np.dot(dy, np.transpose(self.weight))\n",
        "        return dx\n",
        "        raise NotImplementedError\n",
        "    \n",
        "    def update(self, mode='SGD', lr=0.001, mu=.9):\n",
        "        if mode == 'SGD':\n",
        "            self.weight -= lr * self.dweight\n",
        "            self.bias -= lr * self.dbias\n",
        "        elif mode == 'Nesterov':\n",
        "            # TODO <9> : compute the nesterov update (for Lab 2)\n",
        "            \"\"\"\n",
        "            LI YANZHE\n",
        "            \"\"\"\n",
        "            v_pre_w = self.vw.copy()\n",
        "            v_pre_b = self.vb.copy()\n",
        "            \n",
        "            self.vw = mu * self.vw - lr * self.dweight\n",
        "            self.vb = mu * self.vb - lr * self.dbias\n",
        "            \n",
        "            self.weight += - mu * v_pre_w + (1 + mu) * self.vw\n",
        "            self.bias += - mu * v_pre_b + (1 + mu) * self.vb\n",
        "            \n",
        "#             if self.flag == 0:\n",
        "#                 self.last_dweight = self.dweight.copy()\n",
        "#                 self.last_bias = self.bias.copy()\n",
        "#                 self.vw = np.zeros_like(self.dweight)\n",
        "#                 self.vb = np.zeros_like(self.bias)\n",
        "#                 self.flag = 1\n",
        "                \n",
        "#             # update v\n",
        "#             self.vw = mu * self.vw + self.dweight + mu * (self.dweight - self.last_dweight)\n",
        "#             self.vb = mu * self.vb + self.dbias + mu * (self.bias - self.last_bias)\n",
        "#             # save this weight and bias as last weight and bias\n",
        "#             self.last_bias = self.bias.copy()\n",
        "#             self.last_dweight = self.dweight.copy()\n",
        "#             # update weight and bias\n",
        "#             self.weight = self.weight - lr * self.vw\n",
        "#             self.bias = self.bias - lr * self.vb\n",
        "            \n",
        "            \n",
        "            # raise NotImplementedError\n",
        "        elif mode == 'Adam':\n",
        "            eps = np.finfo(float).eps\n",
        "            # TODO <10> : compute the Adam update  (for Lab 2)\n",
        "            self.mw = mu * self.mw + (1 - mu) * self.dweight\n",
        "            mt = self.mw / (1 - mu ** self.iter)\n",
        "            self.vw = mu * self.vw + (1 - mu) * (self.dweight ** 2)\n",
        "            vt = self.vw / (1 - mu ** self.iter)\n",
        "            self.weight += - lr * mt / (np.sqrt(vt) + eps)\n",
        "            \n",
        "            self.mb = mu * self.mb + (1 - mu) * self.dbias\n",
        "            mt = self.mb / (1 - mu ** self.iter)\n",
        "            self.vb = mu * self.vb + (1 - mu) * (self.dbias ** 2)\n",
        "            vt = self.vb / (1 - mu ** self.iter)\n",
        "            self.bias += - lr * mt / (np.sqrt(vt) + eps)\n",
        "            \n",
        "            self.iter += 1\n",
        "            # raise NotImplementedError"
      ],
      "execution_count": 0,
      "outputs": []
    },
    {
      "metadata": {
        "id": "ZUL1R23eSK1m",
        "colab_type": "text"
      },
      "cell_type": "markdown",
      "source": [
        "### The Rectified Linear Unit\n",
        "$$y = \\max\\left(x, 0\\right)$$"
      ]
    },
    {
      "metadata": {
        "colab_type": "code",
        "id": "QOR1DJiwE7FJ",
        "colab": {}
      },
      "cell_type": "code",
      "source": [
        "class ReLU(Layer):\n",
        "    \n",
        "    def __init__(self) -> None:\n",
        "        pass\n",
        "    \n",
        "    def forward(self, x: np.ndarray) -> np.ndarray:\n",
        "        # TODO <3> : Compute the output of a rectified linear unit\n",
        "        \"\"\"\n",
        "        LI YANZHE\n",
        "        \"\"\"\n",
        "        x = x * (x > 0)\n",
        "        return x\n",
        "        raise NotImplementedError\n",
        "    \n",
        "    def backward(self, x: np.ndarray, dy: np.ndarray) -> np.ndarray:\n",
        "        # TODO <4> : Compute the gradient w.r.t. x\n",
        "        \"\"\"\n",
        "        LI YANZHE\n",
        "        \"\"\"\n",
        "        dx = dy * (x > 0)\n",
        "        return dx\n",
        "        raise NotImplementedError"
      ],
      "execution_count": 0,
      "outputs": []
    },
    {
      "metadata": {
        "colab_type": "text",
        "id": "4NrWBTmbI9gW"
      },
      "cell_type": "markdown",
      "source": [
        "## 3. The loss function\n",
        "\n",
        "   The negative log likelihood combines a softmax activation, and a cross-entropy cost."
      ]
    },
    {
      "metadata": {
        "colab_type": "code",
        "id": "YDXiDEu8E7FW",
        "colab": {}
      },
      "cell_type": "code",
      "source": [
        "class NegativeLogLikelihood:\n",
        "    \n",
        "    def __init__(self):\n",
        "        pass\n",
        "\n",
        "    def forward(self, y: np.ndarray, t: np.ndarray) -> float:\n",
        "        # TODO <5> : Compute the negative log likelihood\n",
        "        \"\"\"\n",
        "        LI YANZHE\n",
        "        \"\"\"\n",
        "        # process t\n",
        "        m = t.shape[0]\n",
        "        T = np.repeat(np.arange(10).reshape(1,10), m, axis=0)\n",
        "        t = t.reshape(-1,1)\n",
        "        T = T == t\n",
        "        # softmax \n",
        "        s = np.exp(y) / np.sum(np.exp(y), axis=1).reshape(-1,1)\n",
        "        loss = - np.sum(T * np.log(s))/m\n",
        "        return loss\n",
        "        raise NotImplementedError\n",
        "    \n",
        "    def backward(self, y: np.ndarray, t: np.ndarray) -> np.ndarray:\n",
        "        # TODO <6> : Compute dl/dy\n",
        "        \"\"\"\n",
        "        LI YANZHE\n",
        "        \"\"\"\n",
        "        m = t.shape[0]\n",
        "        T = np.repeat(np.arange(10).reshape(1,10), m, axis=0)\n",
        "        t = t.reshape(-1,1)\n",
        "        T = T == t\n",
        "        # softmax \n",
        "        s = np.exp(y) / np.sum(np.exp(y), axis=1).reshape(-1,1)\n",
        "        dy = (s - T) /m\n",
        "        return dy\n",
        "        raise NotImplementedError"
      ],
      "execution_count": 0,
      "outputs": []
    },
    {
      "metadata": {
        "colab_type": "text",
        "id": "Uz9qM5eHJLNw"
      },
      "cell_type": "markdown",
      "source": [
        "### Accuracy"
      ]
    },
    {
      "metadata": {
        "colab_type": "code",
        "id": "3nYfVCBSE7Fe",
        "colab": {}
      },
      "cell_type": "code",
      "source": [
        "def accuracy(y: np.ndarray, t: np.ndarray) -> float:\n",
        "    # TODO <7> : Compute accuracy\n",
        "    \"\"\"\n",
        "    LI YANZHE\n",
        "    \"\"\"\n",
        "    # process t\n",
        "    m = t.shape[0]\n",
        "    # T = np.repeat(np.arange(10).reshape(1,10), m, axis=0)\n",
        "    # t = t.reshape(-1,1)\n",
        "    # T = T == t\n",
        "    # process y\n",
        "    y = np.argmax(y, axis = 1)\n",
        "    # compute accuracy\n",
        "    # a = np.sum(y * T) / m\n",
        "    a = np.sum(y == t) / m\n",
        "    return a\n",
        "    raise NotImplementedError"
      ],
      "execution_count": 0,
      "outputs": []
    },
    {
      "metadata": {
        "colab_type": "text",
        "id": "mIhtzd2gJQF2"
      },
      "cell_type": "markdown",
      "source": [
        "## 4. Training a neural network"
      ]
    },
    {
      "metadata": {
        "id": "yfJ8UVY9SK1w",
        "colab_type": "text"
      },
      "cell_type": "markdown",
      "source": [
        "### Initial neural network"
      ]
    },
    {
      "metadata": {
        "id": "zpXNs8PnSK1y",
        "colab_type": "code",
        "colab": {}
      },
      "cell_type": "code",
      "source": [
        "BATCH_SIZE = 128\n",
        "HIDDEN_UNITS = 200\n",
        "EPOCHS_NO = 10\n",
        "\n",
        "optimize_args = {'mode': 'Adam', 'lr': .001}\n",
        "\n",
        "net = FeedForwardNetwork([Linear(784, HIDDEN_UNITS),\n",
        "                          ReLU(),\n",
        "                          Linear(HIDDEN_UNITS, 10)])\n",
        "nll = NegativeLogLikelihood()"
      ],
      "execution_count": 0,
      "outputs": []
    },
    {
      "metadata": {
        "id": "M3l3_pwMSK10",
        "colab_type": "text"
      },
      "cell_type": "markdown",
      "source": [
        "### Train "
      ]
    },
    {
      "metadata": {
        "colab_type": "code",
        "id": "HTbmZv3YE7Fs",
        "outputId": "6119d45a-023a-4583-af32-46ec0b0aee60",
        "scrolled": false,
        "colab": {
          "base_uri": "https://localhost:8080/",
          "height": 187
        }
      },
      "cell_type": "code",
      "source": [
        "for epoch in range(EPOCHS_NO):\n",
        "    for b_no, idx in enumerate(range(0, len(train_imgs), BATCH_SIZE)):\n",
        "        # 1. Prepare next batch\n",
        "        x = train_imgs[idx:idx + BATCH_SIZE,:,:].reshape(-1, 784)\n",
        "        t = train_labels[idx:idx + BATCH_SIZE]\n",
        "        \n",
        "        # TODO <8> : Compute gradient\n",
        "        \"\"\"\n",
        "        LI YANZHE\n",
        "        \"\"\"\n",
        "        # 2. Compute gradient\n",
        "        # process forward propagation\n",
        "        y = net.forward(x)\n",
        "        loss = nll.forward(y, t)\n",
        "        # compute dy\n",
        "        dy = nll.backward(y, t)\n",
        "        # process backward propagation\n",
        "        net.backward(dy)\n",
        "        \n",
        "        # raise NotImplementedError\n",
        "        # 3. Update network parameters\n",
        "        net.update(**optimize_args)\n",
        "        \n",
        "        print(f'\\rEpoch {epoch + 1:02d} '\n",
        "              f'| Batch {b_no:03d} '\n",
        "              f'| Train NLL: {loss:3.5f} '\n",
        "              f'| Train Accuracy: {accuracy(y, t):3.2f} ', end='')\n",
        "\n",
        "    y = net.forward(test_imgs.reshape(-1, 784), train=False)\n",
        "    test_nll = nll.forward(y, test_labels)\n",
        "    print(f' | Test NLL: {test_nll:3.5f} '\n",
        "          f' | Test Accuracy: {accuracy(y, test_labels):3.2f}')"
      ],
      "execution_count": 0,
      "outputs": [
        {
          "output_type": "stream",
          "text": [
            "Epoch 01 | Batch 468 | Train NLL: 0.26296 | Train Accuracy: 0.94  | Test NLL: 0.14096  | Test Accuracy: 0.96\n",
            "Epoch 02 | Batch 468 | Train NLL: 0.20825 | Train Accuracy: 0.96  | Test NLL: 0.10413  | Test Accuracy: 0.97\n",
            "Epoch 03 | Batch 468 | Train NLL: 0.19307 | Train Accuracy: 0.98  | Test NLL: 0.09891  | Test Accuracy: 0.97\n",
            "Epoch 04 | Batch 468 | Train NLL: 0.18875 | Train Accuracy: 0.98  | Test NLL: 0.09792  | Test Accuracy: 0.97\n",
            "Epoch 05 | Batch 468 | Train NLL: 0.16560 | Train Accuracy: 0.99  | Test NLL: 0.09730  | Test Accuracy: 0.97\n",
            "Epoch 06 | Batch 468 | Train NLL: 0.17019 | Train Accuracy: 0.99  | Test NLL: 0.10777  | Test Accuracy: 0.97\n",
            "Epoch 07 | Batch 468 | Train NLL: 0.14430 | Train Accuracy: 0.99  | Test NLL: 0.12038  | Test Accuracy: 0.97\n",
            "Epoch 08 | Batch 468 | Train NLL: 0.11708 | Train Accuracy: 0.99  | Test NLL: 0.11546  | Test Accuracy: 0.97\n",
            "Epoch 09 | Batch 468 | Train NLL: 0.08182 | Train Accuracy: 0.99  | Test NLL: 0.11382  | Test Accuracy: 0.97\n",
            "Epoch 10 | Batch 468 | Train NLL: 0.13723 | Train Accuracy: 0.99  | Test NLL: 0.11459  | Test Accuracy: 0.98\n"
          ],
          "name": "stdout"
        }
      ]
    },
    {
      "metadata": {
        "id": "aBqGxBY9SK15",
        "colab_type": "text"
      },
      "cell_type": "markdown",
      "source": [
        "## 5. Pradict Number"
      ]
    },
    {
      "metadata": {
        "id": "DxrPItcZSK17",
        "colab_type": "code",
        "outputId": "d74426e0-968c-4014-bc59-46f86db26cf6",
        "colab": {
          "base_uri": "https://localhost:8080/",
          "height": 108
        }
      },
      "cell_type": "code",
      "source": [
        "# random get number\n",
        "idxs = np.random.randint(0, len(test_imgs), 15)\n",
        "imgs = np.concatenate(tuple(test_imgs[idx,:,:] for idx in idxs), axis=1)\n",
        "x = np.array([test_imgs[idx,:,:] for idx in idxs]).reshape(-1,784)\n",
        "#pradicate number\n",
        "y = net.forward(x)\n",
        "y = np.argmax(y,axis=1)\n",
        "plt.imshow(imgs)\n",
        "print(\"Pradict Labels:\",y)\n",
        "print(\"Correct Labels:\",test_labels[idxs])"
      ],
      "execution_count": 0,
      "outputs": [
        {
          "output_type": "stream",
          "text": [
            "Pradict Labels: [5 5 4 4 1 0 6 9 3 6 2 1 4 8 4]\n",
            "Correct Labels: [5 5 4 4 1 0 6 4 3 6 2 1 4 8 4]\n"
          ],
          "name": "stdout"
        },
        {
          "output_type": "display_data",
          "data": {
            "image/png": "[encoded data removed]",
            "text/plain": [
              "<matplotlib.figure.Figure at 0x7ff02cfd7cf8>"
            ]
          },
          "metadata": {
            "tags": []
          }
        }
      ]
    },
    {
      "metadata": {
        "id": "E-xOqX5dxmlm",
        "colab_type": "text"
      },
      "cell_type": "markdown",
      "source": [
        "# Pradict with Noise"
      ]
    },
    {
      "metadata": {
        "id": "MCQcm-KoxtCV",
        "colab_type": "text"
      },
      "cell_type": "markdown",
      "source": [
        "## Choose Data"
      ]
    },
    {
      "metadata": {
        "id": "KYh4ZU8aOny4",
        "colab_type": "code",
        "colab": {}
      },
      "cell_type": "code",
      "source": [
        "def show_mnist(X, title = None, loc = 'center',**kwargs):\n",
        "    num = X.shape[0]\n",
        "    if num <= 10:\n",
        "        imgs = np.moveaxis(X.reshape(-1, num, 28, 28), 1, 2).reshape(-1, num * 28)\n",
        "        plt.figure(figsize=(num/2,num))\n",
        "        if title:\n",
        "            plt.title(title, kwargs, loc=loc)\n",
        "        plt.axis('off')\n",
        "        plt.imshow(imgs)\n",
        "    elif num <= 100 and num % 10 == 0:\n",
        "        imgs = np.moveaxis(X.reshape(-1, 10, 28, 28), 1, 2).reshape(-1, 10 * 28)\n",
        "        plt.figure(figsize=(10,20))\n",
        "        if title:\n",
        "            plt.title(title, kwargs, loc=loc)\n",
        "        plt.axis('off')\n",
        "        plt.imshow(imgs)\n",
        "    elif num <= 200 and num % 20 == 0:\n",
        "        imgs = np.moveaxis(X.reshape(-1, 20, 28, 28), 1, 2).reshape(-1, 20 * 28)\n",
        "        plt.figure(figsize=(10,20))\n",
        "        if title:\n",
        "            plt.title(title, kwargs, loc=loc)\n",
        "        plt.axis('off')\n",
        "        plt.imshow(imgs)\n",
        "    else:\n",
        "        print(f'{num} not fit, choose from:')\n",
        "        print(list(range(1,10)))\n",
        "        print([x for x in range(10,100,10)])\n",
        "        print([x for x in range(100,1000,100)])\n",
        "    plt.show()"
      ],
      "execution_count": 0,
      "outputs": []
    },
    {
      "metadata": {
        "id": "0jWcqgrHxxVz",
        "colab_type": "code",
        "outputId": "91a8894d-63dd-4131-9e30-a9b6153a1848",
        "colab": {
          "base_uri": "https://localhost:8080/",
          "height": 163
        }
      },
      "cell_type": "code",
      "source": [
        "idxs = np.random.randint(0, len(test_imgs), 20)\n",
        "data = test_imgs[idxs]\n",
        "data = data.reshape(-1,784)\n",
        "show_mnist(data)"
      ],
      "execution_count": 0,
      "outputs": [
        {
          "output_type": "display_data",
          "data": {
            "image/png": "[encoded data removed]",
            "text/plain": [
              "<matplotlib.figure.Figure at 0x7ff02b1a0390>"
            ]
          },
          "metadata": {
            "tags": []
          }
        }
      ]
    },
    {
      "metadata": {
        "id": "H_u1SoadzFXH",
        "colab_type": "text"
      },
      "cell_type": "markdown",
      "source": [
        "## Add Noise"
      ]
    },
    {
      "metadata": {
        "id": "1i53eXChzI1e",
        "colab_type": "code",
        "outputId": "4b959dbf-28f9-4fdf-a71b-4bc8a35b8787",
        "colab": {
          "base_uri": "https://localhost:8080/",
          "height": 163
        }
      },
      "cell_type": "code",
      "source": [
        "level = 100\n",
        "\n",
        "for img in data:\n",
        "  noisepix = np.random.choice(784, level, replace=False)\n",
        "  img[noisepix] = (np.random.randint(255) - mean) / std\n",
        "  \n",
        "show_mnist(data)"
      ],
      "execution_count": 0,
      "outputs": [
        {
          "output_type": "display_data",
          "data": {
            "image/png": "[encoded data removed]",
            "text/plain": [
              "<matplotlib.figure.Figure at 0x7ff02cd25390>"
            ]
          },
          "metadata": {
            "tags": []
          }
        }
      ]
    },
    {
      "metadata": {
        "id": "uRR2UA84zgT3",
        "colab_type": "text"
      },
      "cell_type": "markdown",
      "source": [
        "## Predict"
      ]
    },
    {
      "metadata": {
        "id": "z3vGAzbX4g4d",
        "colab_type": "code",
        "outputId": "8771be0f-9917-4cd6-e50a-4553e1d67e11",
        "colab": {
          "base_uri": "https://localhost:8080/",
          "height": 180
        }
      },
      "cell_type": "code",
      "source": [
        "y = net.forward(data)\n",
        "y = np.argmax(y,axis=1)\n",
        "print(y)\n",
        "show_mnist(data)"
      ],
      "execution_count": 0,
      "outputs": [
        {
          "output_type": "stream",
          "text": [
            "[0 2 0 7 5 2 6 0 8 2 3 5 9 4 4 0 7 6 8 5]\n"
          ],
          "name": "stdout"
        },
        {
          "output_type": "display_data",
          "data": {
            "image/png": "[encoded data removed]",
            "text/plain": [
              "<matplotlib.figure.Figure at 0x7ff02ce19208>"
            ]
          },
          "metadata": {
            "tags": []
          }
        }
      ]
    },
    {
      "metadata": {
        "id": "TV9m18OU5n3W",
        "colab_type": "text"
      },
      "cell_type": "markdown",
      "source": [
        "## For all Test Data"
      ]
    },
    {
      "metadata": {
        "id": "TkWCzZA_5rnj",
        "colab_type": "code",
        "outputId": "ebce5fe4-a9c9-4002-d467-cc79ace3f98f",
        "colab": {
          "base_uri": "https://localhost:8080/",
          "height": 807
        }
      },
      "cell_type": "code",
      "source": [
        "accuracies = []\n",
        "for level in range(100):\n",
        "  data = test_imgs.reshape(-1,784).copy()\n",
        "  noise = np.max([1, 784 * level // 100])\n",
        "  for img in data:\n",
        "    noisepix = np.random.choice(784, noise, replace=False)\n",
        "    img[noisepix] = (np.random.randint(255) - mean) / std\n",
        "  y = net.forward(data)\n",
        "  acc = accuracy(y, test_labels)\n",
        "  accuracies.append(acc)\n",
        "  if level % 10 == 0:\n",
        "    show_mnist(data[:10])\n",
        "    print(f'level: {level}%, Accuracy : {acc}')"
      ],
      "execution_count": 0,
      "outputs": [
        {
          "output_type": "display_data",
          "data": {
            "image/png": "[encoded data removed]",
            "text/plain": [
              "<matplotlib.figure.Figure at 0x7ff02b2eec18>"
            ]
          },
          "metadata": {
            "tags": []
          }
        },
        {
          "output_type": "stream",
          "text": [
            "level: 0%, Accuracy : 0.9758\n"
          ],
          "name": "stdout"
        },
        {
          "output_type": "display_data",
          "data": {
            "image/png": "[encoded data removed]",
            "text/plain": [
              "<matplotlib.figure.Figure at 0x7ff02b299a20>"
            ]
          },
          "metadata": {
            "tags": []
          }
        },
        {
          "output_type": "stream",
          "text": [
            "level: 10%, Accuracy : 0.962\n"
          ],
          "name": "stdout"
        },
        {
          "output_type": "display_data",
          "data": {
            "image/png": "[encoded data removed]",
            "text/plain": [
              "<matplotlib.figure.Figure at 0x7ff02b181438>"
            ]
          },
          "metadata": {
            "tags": []
          }
        },
        {
          "output_type": "stream",
          "text": [
            "level: 20%, Accuracy : 0.9184\n"
          ],
          "name": "stdout"
        },
        {
          "output_type": "display_data",
          "data": {
            "image/png": "[encoded data removed]",
            "text/plain": [
              "<matplotlib.figure.Figure at 0x7ff02b1f6b00>"
            ]
          },
          "metadata": {
            "tags": []
          }
        },
        {
          "output_type": "stream",
          "text": [
            "level: 30%, Accuracy : 0.8377\n"
          ],
          "name": "stdout"
        },
        {
          "output_type": "display_data",
          "data": {
            "image/png": "[encoded data removed]",
            "text/plain": [
              "<matplotlib.figure.Figure at 0x7ff02b242b38>"
            ]
          },
          "metadata": {
            "tags": []
          }
        },
        {
          "output_type": "stream",
          "text": [
            "level: 40%, Accuracy : 0.7381\n"
          ],
          "name": "stdout"
        },
        {
          "output_type": "display_data",
          "data": {
            "image/png": "[encoded data removed]",
            "text/plain": [
              "<matplotlib.figure.Figure at 0x7ff02b0c8828>"
            ]
          },
          "metadata": {
            "tags": []
          }
        },
        {
          "output_type": "stream",
          "text": [
            "level: 50%, Accuracy : 0.6332\n"
          ],
          "name": "stdout"
        },
        {
          "output_type": "display_data",
          "data": {
            "image/png": "[encoded data removed]",
            "text/plain": [
              "<matplotlib.figure.Figure at 0x7ff02b023ac8>"
            ]
          },
          "metadata": {
            "tags": []
          }
        },
        {
          "output_type": "stream",
          "text": [
            "level: 60%, Accuracy : 0.5286\n"
          ],
          "name": "stdout"
        },
        {
          "output_type": "display_data",
          "data": {
            "image/png": "[encoded data removed]",
            "text/plain": [
              "<matplotlib.figure.Figure at 0x7ff02afe7978>"
            ]
          },
          "metadata": {
            "tags": []
          }
        },
        {
          "output_type": "stream",
          "text": [
            "level: 70%, Accuracy : 0.4358\n"
          ],
          "name": "stdout"
        },
        {
          "output_type": "display_data",
          "data": {
            "image/png": "[encoded data removed]",
            "text/plain": [
              "<matplotlib.figure.Figure at 0x7ff02aff0c88>"
            ]
          },
          "metadata": {
            "tags": []
          }
        },
        {
          "output_type": "stream",
          "text": [
            "level: 80%, Accuracy : 0.3175\n"
          ],
          "name": "stdout"
        },
        {
          "output_type": "display_data",
          "data": {
            "image/png": "[encoded data removed]",
            "text/plain": [
              "<matplotlib.figure.Figure at 0x7ff02b03f828>"
            ]
          },
          "metadata": {
            "tags": []
          }
        },
        {
          "output_type": "stream",
          "text": [
            "level: 90%, Accuracy : 0.1938\n"
          ],
          "name": "stdout"
        }
      ]
    },
    {
      "metadata": {
        "id": "NvFcaKqaGCTa",
        "colab_type": "code",
        "outputId": "bb148af4-bac8-4545-a388-0f5a487bf5a3",
        "colab": {
          "base_uri": "https://localhost:8080/",
          "height": 296
        }
      },
      "cell_type": "code",
      "source": [
        "plt.plot(accuracies)\n",
        "plt.xlabel('Noise(%)')\n",
        "plt.ylabel('Accuracy')"
      ],
      "execution_count": 0,
      "outputs": [
        {
          "output_type": "execute_result",
          "data": {
            "text/plain": [
              "Text(0,0.5,'Accuracy')"
            ]
          },
          "metadata": {
            "tags": []
          },
          "execution_count": 59
        },
        {
          "output_type": "display_data",
          "data": {
            "image/png": "[encoded data removed]",
            "text/plain": [
              "<matplotlib.figure.Figure at 0x7ff02b3d7978>"
            ]
          },
          "metadata": {
            "tags": []
          }
        }
      ]
    }
  ]
}