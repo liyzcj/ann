{
 "cells": [
  {
   "cell_type": "markdown",
   "metadata": {},
   "source": [
    "# AutoEncoder"
   ]
  },
  {
   "cell_type": "code",
   "execution_count": 1,
   "metadata": {},
   "outputs": [],
   "source": [
    "import tensorflow.keras as k\n",
    "import tensorflow as tf\n",
    "import matplotlib.pyplot as plt\n",
    "import numpy as np\n",
    "from tensorflow.keras.layers import *\n",
    "from tensorflow.keras.models import Model\n",
    "from data_util import *"
   ]
  },
  {
   "cell_type": "markdown",
   "metadata": {},
   "source": [
    "## Hyper parameters"
   ]
  },
  {
   "cell_type": "code",
   "execution_count": 2,
   "metadata": {},
   "outputs": [],
   "source": [
    "input_shape = (28, 28)\n",
    "hidden_unit = 128\n",
    "batch_size = 128\n",
    "noise_factor = 0.3\n",
    "epochs = 5\n",
    "num_classes = 10\n",
    "cmap = \"Greys\""
   ]
  },
  {
   "cell_type": "markdown",
   "metadata": {},
   "source": [
    "## Dataset"
   ]
  },
  {
   "cell_type": "code",
   "execution_count": 3,
   "metadata": {},
   "outputs": [],
   "source": [
    "(x_train, y_train), (x_test, y_test) = load_mnist()"
   ]
  },
  {
   "cell_type": "code",
   "execution_count": 4,
   "metadata": {
    "scrolled": false
   },
   "outputs": [
    {
     "name": "stdout",
     "output_type": "stream",
     "text": [
      "x_train: (60000, 28, 28)\n",
      "y_train: (60000, 10)\n",
      "x_test: (10000, 28, 28)\n",
      "y_test: (10000, 10)\n"
     ]
    },
    {
     "data": {
      "image/png": "[encoded data removed]",
      "text/plain": [
       "<Figure size 432x288 with 1 Axes>"
      ]
     },
     "metadata": {
      "needs_background": "light"
     },
     "output_type": "display_data"
    }
   ],
   "source": [
    "print(\"x_train:\", x_train.shape)\n",
    "print(\"y_train:\", y_train.shape)\n",
    "print(\"x_test:\", x_test.shape)\n",
    "print(\"y_test:\", y_test.shape)\n",
    "show_mnist(x_train[:10])"
   ]
  },
  {
   "cell_type": "markdown",
   "metadata": {},
   "source": [
    "## Model --- Denoising Autoencoder"
   ]
  },
  {
   "cell_type": "markdown",
   "metadata": {},
   "source": [
    "### AutoEncoder = Encoder + Decoder"
   ]
  },
  {
   "cell_type": "code",
   "execution_count": 7,
   "metadata": {
    "scrolled": true
   },
   "outputs": [
    {
     "name": "stdout",
     "output_type": "stream",
     "text": [
      "_________________________________________________________________\n",
      "Layer (type)                 Output Shape              Param #   \n",
      "=================================================================\n",
      "input_1 (InputLayer)         (None, 28, 28)            0         \n",
      "_________________________________________________________________\n",
      "sequential_1 (Sequential)    (None, 128)               324288    \n",
      "_________________________________________________________________\n",
      "sequential_2 (Sequential)    (None, 28, 28)            325121    \n",
      "=================================================================\n",
      "Total params: 649,409\n",
      "Trainable params: 649,409\n",
      "Non-trainable params: 0\n",
      "_________________________________________________________________\n"
     ]
    }
   ],
   "source": [
    "dae_conv = k.models.load_model('models/dae_conv_noise9.h5')\n",
    "dae_conv.summary()"
   ]
  },
  {
   "cell_type": "markdown",
   "metadata": {},
   "source": [
    "## Reconstruct Data"
   ]
  },
  {
   "cell_type": "code",
   "execution_count": 8,
   "metadata": {},
   "outputs": [],
   "source": [
    "x_train_noisy = np.concatenate([sap_noise(x_train, level/10) for level in range(4,9)])"
   ]
  },
  {
   "cell_type": "code",
   "execution_count": 9,
   "metadata": {
    "scrolled": true
   },
   "outputs": [],
   "source": [
    "x_train_denoisy = dae_conv.predict(x_train_noisy)"
   ]
  },
  {
   "cell_type": "code",
   "execution_count": 16,
   "metadata": {
    "scrolled": true
   },
   "outputs": [
    {
     "data": {
      "image/png": "[encoded data removed]",
      "text/plain": [
       "<Figure size 432x288 with 1 Axes>"
      ]
     },
     "metadata": {
      "needs_background": "light"
     },
     "output_type": "display_data"
    }
   ],
   "source": [
    "show_mnist(x_train_denoisy[290000:290010])"
   ]
  },
  {
   "cell_type": "markdown",
   "metadata": {},
   "source": [
    "### Save Data"
   ]
  },
  {
   "cell_type": "code",
   "execution_count": 15,
   "metadata": {},
   "outputs": [],
   "source": [
    "np.save('x_train_denoisy.npy', x_train_denoisy)"
   ]
  },
  {
   "cell_type": "markdown",
   "metadata": {},
   "source": [
    "### Load Data"
   ]
  },
  {
   "cell_type": "code",
   "execution_count": 4,
   "metadata": {},
   "outputs": [],
   "source": [
    "x_train_denoisy = np.load('x_train_denoisy.npy')"
   ]
  },
  {
   "cell_type": "markdown",
   "metadata": {},
   "source": [
    "### Generate Labels"
   ]
  },
  {
   "cell_type": "code",
   "execution_count": 5,
   "metadata": {},
   "outputs": [],
   "source": [
    "y_train_denoisy = np.concatenate([y_train for _ in range(5)])"
   ]
  },
  {
   "cell_type": "markdown",
   "metadata": {},
   "source": [
    "## Model --- Conv NN with BN layer"
   ]
  },
  {
   "cell_type": "markdown",
   "metadata": {},
   "source": [
    "### Model with BN and unnormalized data"
   ]
  },
  {
   "cell_type": "code",
   "execution_count": 6,
   "metadata": {},
   "outputs": [],
   "source": [
    "conv_nn = k.models.Sequential(layers=[\n",
    "    Reshape((28,28,1), input_shape=(28,28)),\n",
    "    Conv2D(32, kernel_size = 3, activation='relu'),\n",
    "    BatchNormalization(),\n",
    "    Conv2D(32, kernel_size = 3, activation='relu'),\n",
    "    BatchNormalization(),\n",
    "    Conv2D(32, kernel_size = 5, strides=2, padding='same', activation='relu'),\n",
    "    BatchNormalization(),\n",
    "    Dropout(0.4),\n",
    "    Conv2D(64, kernel_size = 3, activation='relu'),\n",
    "    BatchNormalization(),\n",
    "    Conv2D(64, kernel_size = 3, activation='relu'),\n",
    "    BatchNormalization(),\n",
    "    Conv2D(64, kernel_size = 5, strides=2, padding='same', activation='relu'),\n",
    "    BatchNormalization(),\n",
    "    Dropout(0.4),\n",
    "    Conv2D(128, kernel_size = 4, activation='relu'),\n",
    "    BatchNormalization(),\n",
    "    Flatten(),\n",
    "    Dropout(0.4),\n",
    "    Dense(10, activation='softmax'),\n",
    "])"
   ]
  },
  {
   "cell_type": "code",
   "execution_count": 7,
   "metadata": {
    "scrolled": true
   },
   "outputs": [
    {
     "name": "stdout",
     "output_type": "stream",
     "text": [
      "_________________________________________________________________\n",
      "Layer (type)                 Output Shape              Param #   \n",
      "=================================================================\n",
      "reshape (Reshape)            (None, 28, 28, 1)         0         \n",
      "_________________________________________________________________\n",
      "conv2d (Conv2D)              (None, 26, 26, 32)        320       \n",
      "_________________________________________________________________\n",
      "batch_normalization (BatchNo (None, 26, 26, 32)        128       \n",
      "_________________________________________________________________\n",
      "conv2d_1 (Conv2D)            (None, 24, 24, 32)        9248      \n",
      "_________________________________________________________________\n",
      "batch_normalization_1 (Batch (None, 24, 24, 32)        128       \n",
      "_________________________________________________________________\n",
      "conv2d_2 (Conv2D)            (None, 12, 12, 32)        25632     \n",
      "_________________________________________________________________\n",
      "batch_normalization_2 (Batch (None, 12, 12, 32)        128       \n",
      "_________________________________________________________________\n",
      "dropout (Dropout)            (None, 12, 12, 32)        0         \n",
      "_________________________________________________________________\n",
      "conv2d_3 (Conv2D)            (None, 10, 10, 64)        18496     \n",
      "_________________________________________________________________\n",
      "batch_normalization_3 (Batch (None, 10, 10, 64)        256       \n",
      "_________________________________________________________________\n",
      "conv2d_4 (Conv2D)            (None, 8, 8, 64)          36928     \n",
      "_________________________________________________________________\n",
      "batch_normalization_4 (Batch (None, 8, 8, 64)          256       \n",
      "_________________________________________________________________\n",
      "conv2d_5 (Conv2D)            (None, 4, 4, 64)          102464    \n",
      "_________________________________________________________________\n",
      "batch_normalization_5 (Batch (None, 4, 4, 64)          256       \n",
      "_________________________________________________________________\n",
      "dropout_1 (Dropout)          (None, 4, 4, 64)          0         \n",
      "_________________________________________________________________\n",
      "conv2d_6 (Conv2D)            (None, 1, 1, 128)         131200    \n",
      "_________________________________________________________________\n",
      "batch_normalization_6 (Batch (None, 1, 1, 128)         512       \n",
      "_________________________________________________________________\n",
      "flatten (Flatten)            (None, 128)               0         \n",
      "_________________________________________________________________\n",
      "dropout_2 (Dropout)          (None, 128)               0         \n",
      "_________________________________________________________________\n",
      "dense (Dense)                (None, 10)                1290      \n",
      "=================================================================\n",
      "Total params: 327,242\n",
      "Trainable params: 326,410\n",
      "Non-trainable params: 832\n",
      "_________________________________________________________________\n"
     ]
    }
   ],
   "source": [
    "conv_nn.summary()"
   ]
  },
  {
   "cell_type": "markdown",
   "metadata": {},
   "source": [
    "### compile and train"
   ]
  },
  {
   "cell_type": "code",
   "execution_count": 8,
   "metadata": {},
   "outputs": [],
   "source": [
    "conv_nn.compile(optimizer=\"adam\", loss=\"categorical_crossentropy\", metrics=[\"accuracy\"])"
   ]
  },
  {
   "cell_type": "code",
   "execution_count": 10,
   "metadata": {
    "scrolled": false
   },
   "outputs": [
    {
     "name": "stdout",
     "output_type": "stream",
     "text": [
      "Epoch 1/10\n",
      "300000/300000 [==============================] - 43s 142us/step - loss: 0.0391 - acc: 0.9869\n",
      "Epoch 2/10\n",
      "300000/300000 [==============================] - 43s 142us/step - loss: 0.0383 - acc: 0.9872\n",
      "Epoch 3/10\n",
      "300000/300000 [==============================] - 43s 143us/step - loss: 0.0370 - acc: 0.9877\n",
      "Epoch 4/10\n",
      "300000/300000 [==============================] - 43s 143us/step - loss: 0.0361 - acc: 0.9878\n",
      "Epoch 5/10\n",
      "300000/300000 [==============================] - 43s 143us/step - loss: 0.0351 - acc: 0.9883\n",
      "Epoch 6/10\n",
      "300000/300000 [==============================] - 43s 143us/step - loss: 0.0341 - acc: 0.9885\n",
      "Epoch 7/10\n",
      "300000/300000 [==============================] - 43s 143us/step - loss: 0.0335 - acc: 0.9888\n",
      "Epoch 8/10\n",
      "300000/300000 [==============================] - 43s 145us/step - loss: 0.0324 - acc: 0.9889\n",
      "Epoch 9/10\n",
      "300000/300000 [==============================] - 43s 144us/step - loss: 0.0323 - acc: 0.9890\n",
      "Epoch 10/10\n",
      "300000/300000 [==============================] - 43s 144us/step - loss: 0.0314 - acc: 0.9891\n"
     ]
    },
    {
     "data": {
      "text/plain": [
       "<tensorflow.python.keras.callbacks.History at 0x7f15b2339630>"
      ]
     },
     "execution_count": 10,
     "metadata": {},
     "output_type": "execute_result"
    }
   ],
   "source": [
    "conv_nn.fit(x_train_denoisy, y_train_denoisy, batch_size=256, epochs=10, shuffle=True)"
   ]
  },
  {
   "cell_type": "code",
   "execution_count": 11,
   "metadata": {
    "scrolled": false
   },
   "outputs": [],
   "source": [
    "def evaluate_acc(model):\n",
    "    hists = []\n",
    "    for i in range(10):\n",
    "        noise_level = i / 10\n",
    "        x_test_noise = sap_noise(x_test, noise_level)\n",
    "        hist = model.evaluate(x_test_noise, y_test, verbose=0)\n",
    "        title = \"noise level:\" + str(noise_level) + \"\\tAccuracy:\" + str(hist[1])\n",
    "        hists.append(hist)\n",
    "    hists = np.array(hists)\n",
    "    return hists"
   ]
  },
  {
   "cell_type": "code",
   "execution_count": 14,
   "metadata": {
    "scrolled": false
   },
   "outputs": [
    {
     "data": {
      "text/plain": [
       "Text(0.5, 1.0, 'Predict with Gauusian Noise')"
      ]
     },
     "execution_count": 14,
     "metadata": {},
     "output_type": "execute_result"
    },
    {
     "data": {
      "image/png": "[encoded data removed]",
      "text/plain": [
       "<Figure size 432x288 with 1 Axes>"
      ]
     },
     "metadata": {
      "needs_background": "light"
     },
     "output_type": "display_data"
    }
   ],
   "source": [
    "conv_nn_acc = evaluate_acc(conv_nn)\n",
    "plt.plot(np.linspace(0,100,num=10),conv_nn_acc[:,1]*100, \"-o\")\n",
    "plt.xlabel('Noise level(%)')\n",
    "plt.ylabel('Accuracy(%)')\n",
    "plt.title(\"Predict with Gauusian Noise\", fontsize=14)"
   ]
  },
  {
   "cell_type": "markdown",
   "metadata": {},
   "source": [
    "### Save Model"
   ]
  },
  {
   "cell_type": "code",
   "execution_count": 13,
   "metadata": {},
   "outputs": [],
   "source": [
    "conv_nn.save(\"models/conv_nn.h5\")"
   ]
  },
  {
   "cell_type": "code",
   "execution_count": 5,
   "metadata": {},
   "outputs": [],
   "source": [
    "conv_nn = k.models.load_model(\"models/conv_nn.h5\")"
   ]
  },
  {
   "cell_type": "markdown",
   "metadata": {},
   "source": [
    "## Denoise and Classify Model\n",
    "\n",
    "\n",
    "**Predict Process:** Image + Noise ==> Denoise Autoencoer ==> NN classifier  \n",
    "\n",
    "**Note** : \n",
    "- The Denoise Autoencoder and NN classifier are Trained **separated**.\n",
    "- The NN classifier has BatchNormailize Layer.\n",
    "- The data is **NOT** Normalized before train this classifier."
   ]
  },
  {
   "cell_type": "code",
   "execution_count": 8,
   "metadata": {
    "scrolled": true
   },
   "outputs": [
    {
     "name": "stdout",
     "output_type": "stream",
     "text": [
      "_________________________________________________________________\n",
      "Layer (type)                 Output Shape              Param #   \n",
      "=================================================================\n",
      "Model_Input (InputLayer)     (None, 28, 28)            0         \n",
      "_________________________________________________________________\n",
      "autoencoder (Model)          (None, 28, 28)            649409    \n",
      "_________________________________________________________________\n",
      "sequential (Sequential)      (None, 10)                327242    \n",
      "=================================================================\n",
      "Total params: 976,651\n",
      "Trainable params: 975,819\n",
      "Non-trainable params: 832\n",
      "_________________________________________________________________\n"
     ]
    }
   ],
   "source": [
    "x_input  = k.layers.Input((28,28), name = \"Model_Input\")\n",
    "dae_nn_conv = Model(x_input, conv_nn(dae_conv(x_input)), name=\"denoiseclassifier\")\n",
    "dae_nn_conv.summary()"
   ]
  },
  {
   "cell_type": "code",
   "execution_count": 9,
   "metadata": {},
   "outputs": [],
   "source": [
    "dae_nn_conv.compile(loss = \"categorical_crossentropy\",\n",
    "                  optimizer=\"adam\",\n",
    "                  metrics = ['accuracy'],\n",
    "                  )"
   ]
  },
  {
   "cell_type": "markdown",
   "metadata": {},
   "source": [
    "### Save Model"
   ]
  },
  {
   "cell_type": "code",
   "execution_count": 16,
   "metadata": {},
   "outputs": [],
   "source": [
    "dae_nn_conv.save('models/dae_nn_conv.h5')"
   ]
  },
  {
   "cell_type": "markdown",
   "metadata": {},
   "source": [
    "### Predict with Noise"
   ]
  },
  {
   "cell_type": "code",
   "execution_count": 12,
   "metadata": {
    "scrolled": true
   },
   "outputs": [],
   "source": [
    "dae_nn_conv_acc = evaluate_acc(dae_nn_conv)"
   ]
  },
  {
   "cell_type": "code",
   "execution_count": 15,
   "metadata": {},
   "outputs": [
    {
     "data": {
      "text/plain": [
       "<matplotlib.legend.Legend at 0x7f8063b7e518>"
      ]
     },
     "execution_count": 15,
     "metadata": {},
     "output_type": "execute_result"
    },
    {
     "data": {
      "image/png": "[encoded data removed]",
      "text/plain": [
       "<Figure size 900x600 with 1 Axes>"
      ]
     },
     "metadata": {
      "needs_background": "light"
     },
     "output_type": "display_data"
    }
   ],
   "source": [
    "plt.figure(dpi=150)\n",
    "plt.plot(np.linspace(0,100,num=10),conv_nn_acc[:,1]*100, \"-o\", label=\"Conv-NN\")\n",
    "plt.plot(np.linspace(0,100,num=10),dae_nn_conv_acc[:,1]*100, \"--o\", label =\"Conv-DAE-NN\")\n",
    "plt.xlabel('Noise level(%)')\n",
    "plt.ylabel('Accuracy(%)')\n",
    "plt.title(\"Predict With Noise\", fontsize=14)\n",
    "plt.legend()"
   ]
  }
 ],
 "metadata": {
  "kernelspec": {
   "display_name": "Python 3",
   "language": "python",
   "name": "python3"
  },
  "language_info": {
   "codemirror_mode": {
    "name": "ipython",
    "version": 3
   },
   "file_extension": ".py",
   "mimetype": "text/x-python",
   "name": "python",
   "nbconvert_exporter": "python",
   "pygments_lexer": "ipython3",
   "version": "3.6.6"
  }
 },
 "nbformat": 4,
 "nbformat_minor": 2
}
