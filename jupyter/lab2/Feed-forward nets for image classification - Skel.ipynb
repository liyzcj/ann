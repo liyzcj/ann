{
 "cells": [
  {
   "cell_type": "markdown",
   "metadata": {
    "colab_type": "text",
    "id": "tmaHAc_KHG_5"
   },
   "source": [
    "# Feed-forward nets for image classification"
   ]
  },
  {
   "cell_type": "markdown",
   "metadata": {
    "colab_type": "text",
    "id": "zgNIWhzoHOIz"
   },
   "source": [
    "## 1. The MNIST dataset"
   ]
  },
  {
   "cell_type": "code",
   "execution_count": 1,
   "metadata": {
    "colab": {},
    "colab_type": "code",
    "id": "dQiqJyO7E7Ek"
   },
   "outputs": [],
   "source": [
    "#!pip install mnist\n",
    "\n",
    "import mnist\n",
    "train_imgs = mnist.train_images()\n",
    "train_labels = mnist.train_labels()\n",
    "test_imgs = mnist.test_images()\n",
    "test_labels  = mnist.test_labels()"
   ]
  },
  {
   "cell_type": "markdown",
   "metadata": {},
   "source": [
    "### Data standardization\n",
    "\n",
    "Rescale input values to have zero mean and standard deviation of one."
   ]
  },
  {
   "cell_type": "code",
   "execution_count": 2,
   "metadata": {},
   "outputs": [],
   "source": [
    "mean, std  = train_imgs.mean(), train_imgs.std()\n",
    "train_imgs = (train_imgs - mean) / std\n",
    "test_imgs = (test_imgs - mean) / std"
   ]
  },
  {
   "cell_type": "markdown",
   "metadata": {},
   "source": [
    "### See some inputs"
   ]
  },
  {
   "cell_type": "code",
   "execution_count": 3,
   "metadata": {
    "colab": {
     "base_uri": "https://localhost:8080/",
     "height": 99
    },
    "colab_type": "code",
    "id": "qeftJ_CpE7Eu",
    "outputId": "c7a9a956-0114-4975-90a0-8af5b2007c2b"
   },
   "outputs": [],
   "source": [
    "from typing import List\n",
    "import numpy as np\n",
    "%matplotlib inline\n",
    "import matplotlib.pyplot as plt"
   ]
  },
  {
   "cell_type": "code",
   "execution_count": 4,
   "metadata": {
    "colab": {
     "base_uri": "https://localhost:8080/",
     "height": 99
    },
    "colab_type": "code",
    "id": "qeftJ_CpE7Eu",
    "outputId": "c7a9a956-0114-4975-90a0-8af5b2007c2b"
   },
   "outputs": [
    {
     "name": "stdout",
     "output_type": "stream",
     "text": [
      "Labels: [3 6 1 5 9 6 1 6 7 8 7 4 9 2 1]\n"
     ]
    },
    {
     "data": {
      "image/png": "[encoded data removed]",
      "text/plain": [
       "<Figure size 432x288 with 1 Axes>"
      ]
     },
     "metadata": {
      "needs_background": "light"
     },
     "output_type": "display_data"
    }
   ],
   "source": [
    "idxs = np.random.randint(0, len(train_imgs), 15)\n",
    "imgs = np.concatenate(tuple(train_imgs[idx,:,:] for idx in idxs), axis=1)\n",
    "plt.imshow(imgs)\n",
    "print(\"Labels:\", train_labels[idxs])"
   ]
  },
  {
   "cell_type": "markdown",
   "metadata": {
    "colab_type": "text",
    "id": "ZgERUA07IuSr"
   },
   "source": [
    "## 2. Building feed forward-networks"
   ]
  },
  {
   "cell_type": "markdown",
   "metadata": {},
   "source": [
    "### Layers\n",
    "\n",
    "Each layer will have three methods:\n",
    " - `forward` computes and returns ${\\bf y}^{(l)} = f_l\\left({\\bf x}^{(l)}, {\\bf w}^{(l)}\\right)$\n",
    " - `backward` gets $\\frac{\\partial {\\cal L}}{\\partial {\\bf y}^{(l)}}$, and stores $\\frac{\\partial {\\cal L}}{\\partial {\\bf w}^{(l)}}$ internally, and returns $\\frac{\\partial {\\cal L}}{\\partial {\\bf w}^{(l)}}$\n",
    " - `update` modifies parameters ${\\bf w}^{(l)}$ using stored $\\frac{\\partial{\\cal L}}{\\partial{\\bf w}}$"
   ]
  },
  {
   "cell_type": "code",
   "execution_count": 5,
   "metadata": {},
   "outputs": [],
   "source": [
    "class Layer:\n",
    "\n",
    "    def forward(self, x: np.ndarray) -> np.ndarray:\n",
    "        raise NotImplementedError\n",
    "        \n",
    "    def backward(self, x: np.ndarray, dy: np.ndarray) -> np.ndarray:\n",
    "        raise NotImplementedError\n",
    "        \n",
    "    def update(self, *args, **kwargs):\n",
    "        pass  # If a layer has no parameters, then this function does nothing"
   ]
  },
  {
   "cell_type": "markdown",
   "metadata": {},
   "source": [
    "### The feed-forward netowork"
   ]
  },
  {
   "cell_type": "code",
   "execution_count": 6,
   "metadata": {},
   "outputs": [],
   "source": [
    "class FeedForwardNetwork:\n",
    "    \n",
    "    def __init__(self, layers: List[Layer]):\n",
    "        self.layers = layers\n",
    "        \n",
    "    def forward(self, x: np.ndarray, train: bool = True) -> np.ndarray:\n",
    "        self._inputs = []\n",
    "        for layer in self.layers:\n",
    "            if train:\n",
    "                self._inputs.append(x)\n",
    "            x = layer.forward(x)\n",
    "        return x\n",
    "    \n",
    "    def backward(self, dy:np.ndarray) -> np.ndarray:\n",
    "        # TODO <0> : Compute the backward phase\n",
    "        \"\"\"\n",
    "        LI YANZHE\n",
    "        \"\"\"\n",
    "        for layer in self.layers[::-1]:\n",
    "            dy = layer.backward(self._inputs.pop(), dy)\n",
    "            \n",
    "        # return dy\n",
    "        #raise NotImplementedError\n",
    "        del self._inputs\n",
    "    \n",
    "    def update(self, *args, **kwargs):\n",
    "        for layer in self.layers:\n",
    "            layer.update(*args, **kwargs)"
   ]
  },
  {
   "cell_type": "markdown",
   "metadata": {},
   "source": [
    "### The linear layer"
   ]
  },
  {
   "cell_type": "code",
   "execution_count": 7,
   "metadata": {
    "colab": {},
    "colab_type": "code",
    "id": "S47ZsyKdE7FF"
   },
   "outputs": [],
   "source": [
    "class Linear(Layer):\n",
    "    \n",
    "    def __init__(self, insize: int, outsize: int) -> None:\n",
    "        bound = np.sqrt(6. / insize)\n",
    "        self.weight = np.random.uniform(-bound, bound, (insize, outsize))\n",
    "        self.bias = np.zeros((outsize,))\n",
    "        \n",
    "        self.dweight = np.zeros_like(self.weight)\n",
    "        self.dbias = np.zeros_like(self.bias)\n",
    "        # for nesterov\n",
    "        self.vw = np.zeros_like(self.dweight)\n",
    "        self.vb = np.zeros_like(self.bias)\n",
    "        # for adam\n",
    "        self.mw = np.zeros_like(self.dweight)\n",
    "        self.mb = np.zeros_like(self.bias)\n",
    "        self.iter = 1\n",
    "#         # for nestrov\n",
    "#         self.v = np.zeros_like(self.dweight)\n",
    "#         self.vw = np.zeros_likei(self.bias)\n",
    "#         self.last_dweight = np.zeros_like(self.dweight)\n",
    "#         self.last_bias = np.zeros_like(self.bias)\n",
    "#         self.flag = 0\n",
    "        \n",
    "    def forward(self, x: np.ndarray) -> np.ndarray:\n",
    "        # TODO <1> : compute the output of a linear layer\n",
    "        \"\"\"\n",
    "        LI YANZHE\n",
    "        \"\"\"\n",
    "        out = np.dot(x, self.weight) + self.bias\n",
    "        # self.a = output\n",
    "        return out\n",
    "        raise NotImplementedError\n",
    "    \n",
    "    def backward(self, x: np.ndarray, dy: np.ndarray) -> np.ndarray:\n",
    "        # TODO <2> : compute dweight, dbias and  return dx\n",
    "        \"\"\"\n",
    "        LI YANZHE\n",
    "        \"\"\"\n",
    "        self.dweight = np.dot(np.transpose(x), dy)\n",
    "        self.dbias = np.sum(dy, axis=0)\n",
    "        \n",
    "        dx = np.dot(dy, np.transpose(self.weight))\n",
    "        return dx\n",
    "        raise NotImplementedError\n",
    "    \n",
    "    def update(self, mode='SGD', lr=0.001, mu=.9):\n",
    "        if mode == 'SGD':\n",
    "            self.weight -= lr * self.dweight\n",
    "            self.bias -= lr * self.dbias\n",
    "        elif mode == 'Nesterov':\n",
    "            # TODO <9> : compute the nesterov update (for Lab 2)\n",
    "            \"\"\"\n",
    "            LI YANZHE\n",
    "            \"\"\"\n",
    "            v_pre_w = self.vw.copy()\n",
    "            v_pre_b = self.vb.copy()\n",
    "            \n",
    "            self.vw = mu * self.vw - lr * self.dweight\n",
    "            self.vb = mu * self.vb - lr * self.dbias\n",
    "            \n",
    "            self.weight += - mu * v_pre_w + (1 + mu) * self.vw\n",
    "            self.bias += - mu * v_pre_b + (1 + mu) * self.vb\n",
    "            \n",
    "#             if self.flag == 0:\n",
    "#                 self.last_dweight = self.dweight.copy()\n",
    "#                 self.last_bias = self.bias.copy()\n",
    "#                 self.vw = np.zeros_like(self.dweight)\n",
    "#                 self.vb = np.zeros_like(self.bias)\n",
    "#                 self.flag = 1\n",
    "                \n",
    "#             # update v\n",
    "#             self.vw = mu * self.vw + self.dweight + mu * (self.dweight - self.last_dweight)\n",
    "#             self.vb = mu * self.vb + self.dbias + mu * (self.bias - self.last_bias)\n",
    "#             # save this weight and bias as last weight and bias\n",
    "#             self.last_bias = self.bias.copy()\n",
    "#             self.last_dweight = self.dweight.copy()\n",
    "#             # update weight and bias\n",
    "#             self.weight = self.weight - lr * self.vw\n",
    "#             self.bias = self.bias - lr * self.vb\n",
    "            \n",
    "            \n",
    "            # raise NotImplementedError\n",
    "        elif mode == 'Adam':\n",
    "            eps = np.finfo(float).eps\n",
    "            # TODO <10> : compute the Adam update  (for Lab 2)\n",
    "            self.mw = mu * self.mw + (1 - mu) * self.dweight\n",
    "            mt = self.mw / (1 - mu ** self.iter)\n",
    "            self.vw = mu * self.vw + (1 - mu) * (self.dweight ** 2)\n",
    "            vt = self.vw / (1 - mu ** self.iter)\n",
    "            self.weight += - lr * mt / (np.sqrt(vt) + eps)\n",
    "            \n",
    "            self.mb = mu * self.mb + (1 - mu) * self.dbias\n",
    "            mt = self.mb / (1 - mu ** self.iter)\n",
    "            self.vb = mu * self.vb + (1 - mu) * (self.dbias ** 2)\n",
    "            vt = self.vb / (1 - mu ** self.iter)\n",
    "            self.bias += - lr * mt / (np.sqrt(vt) + eps)\n",
    "            \n",
    "            self.iter += 1\n",
    "            # raise NotImplementedError"
   ]
  },
  {
   "cell_type": "markdown",
   "metadata": {},
   "source": [
    "### The Rectified Linear Unit\n",
    "$$y = \\max\\left(x, 0\\right)$$"
   ]
  },
  {
   "cell_type": "code",
   "execution_count": 8,
   "metadata": {
    "colab": {},
    "colab_type": "code",
    "id": "QOR1DJiwE7FJ"
   },
   "outputs": [],
   "source": [
    "class ReLU(Layer):\n",
    "    \n",
    "    def __init__(self) -> None:\n",
    "        pass\n",
    "    \n",
    "    def forward(self, x: np.ndarray) -> np.ndarray:\n",
    "        # TODO <3> : Compute the output of a rectified linear unit\n",
    "        \"\"\"\n",
    "        LI YANZHE\n",
    "        \"\"\"\n",
    "        x = x * (x > 0)\n",
    "        return x\n",
    "        raise NotImplementedError\n",
    "    \n",
    "    def backward(self, x: np.ndarray, dy: np.ndarray) -> np.ndarray:\n",
    "        # TODO <4> : Compute the gradient w.r.t. x\n",
    "        \"\"\"\n",
    "        LI YANZHE\n",
    "        \"\"\"\n",
    "        dx = dy * (x > 0)\n",
    "        return dx\n",
    "        raise NotImplementedError"
   ]
  },
  {
   "cell_type": "markdown",
   "metadata": {
    "colab_type": "text",
    "id": "4NrWBTmbI9gW"
   },
   "source": [
    "## 3. The loss function\n",
    "\n",
    "   The negative log likelihood combines a softmax activation, and a cross-entropy cost."
   ]
  },
  {
   "cell_type": "code",
   "execution_count": 9,
   "metadata": {
    "colab": {},
    "colab_type": "code",
    "id": "YDXiDEu8E7FW"
   },
   "outputs": [],
   "source": [
    "class NegativeLogLikelihood:\n",
    "    \n",
    "    def __init__(self):\n",
    "        pass\n",
    "\n",
    "    def forward(self, y: np.ndarray, t: np.ndarray) -> float:\n",
    "        # TODO <5> : Compute the negative log likelihood\n",
    "        \"\"\"\n",
    "        LI YANZHE\n",
    "        \"\"\"\n",
    "        # process t\n",
    "        m = t.shape[0]\n",
    "        T = np.repeat(np.arange(10).reshape(1,10), m, axis=0)\n",
    "        t = t.reshape(-1,1)\n",
    "        T = T == t\n",
    "        # softmax \n",
    "        s = np.exp(y) / np.sum(np.exp(y), axis=1).reshape(-1,1)\n",
    "        loss = - np.sum(T * np.log(s))/m\n",
    "        return loss\n",
    "        raise NotImplementedError\n",
    "    \n",
    "    def backward(self, y: np.ndarray, t: np.ndarray) -> np.ndarray:\n",
    "        # TODO <6> : Compute dl/dy\n",
    "        \"\"\"\n",
    "        LI YANZHE\n",
    "        \"\"\"\n",
    "        m = t.shape[0]\n",
    "        T = np.repeat(np.arange(10).reshape(1,10), m, axis=0)\n",
    "        t = t.reshape(-1,1)\n",
    "        T = T == t\n",
    "        # softmax \n",
    "        s = np.exp(y) / np.sum(np.exp(y), axis=1).reshape(-1,1)\n",
    "        dy = (s - T) /m\n",
    "        return dy\n",
    "        raise NotImplementedError"
   ]
  },
  {
   "cell_type": "markdown",
   "metadata": {
    "colab_type": "text",
    "id": "Uz9qM5eHJLNw"
   },
   "source": [
    "### Accuracy"
   ]
  },
  {
   "cell_type": "code",
   "execution_count": 10,
   "metadata": {
    "colab": {},
    "colab_type": "code",
    "id": "3nYfVCBSE7Fe"
   },
   "outputs": [],
   "source": [
    "def accuracy(y: np.ndarray, t: np.ndarray) -> float:\n",
    "    # TODO <7> : Compute accuracy\n",
    "    \"\"\"\n",
    "    LI YANZHE\n",
    "    \"\"\"\n",
    "    # process t\n",
    "    m = t.shape[0]\n",
    "    # T = np.repeat(np.arange(10).reshape(1,10), m, axis=0)\n",
    "    # t = t.reshape(-1,1)\n",
    "    # T = T == t\n",
    "    # process y\n",
    "    y = np.argmax(y, axis = 1)\n",
    "    # compute accuracy\n",
    "    # a = np.sum(y * T) / m\n",
    "    a = np.sum(y == t) / m\n",
    "    return a\n",
    "    raise NotImplementedError"
   ]
  },
  {
   "cell_type": "markdown",
   "metadata": {
    "colab_type": "text",
    "id": "mIhtzd2gJQF2"
   },
   "source": [
    "## 4. Training a neural network"
   ]
  },
  {
   "cell_type": "markdown",
   "metadata": {},
   "source": [
    "### Initial neural network"
   ]
  },
  {
   "cell_type": "code",
   "execution_count": 11,
   "metadata": {},
   "outputs": [],
   "source": [
    "BATCH_SIZE = 128\n",
    "HIDDEN_UNITS = 200\n",
    "EPOCHS_NO = 20\n",
    "\n",
    "optimize_args = {'mode': 'Adam', 'lr': .001}\n",
    "\n",
    "net = FeedForwardNetwork([Linear(784, HIDDEN_UNITS),\n",
    "                          ReLU(),\n",
    "                          Linear(HIDDEN_UNITS, 10)])\n",
    "nll = NegativeLogLikelihood()"
   ]
  },
  {
   "cell_type": "markdown",
   "metadata": {},
   "source": [
    "### Train "
   ]
  },
  {
   "cell_type": "code",
   "execution_count": 12,
   "metadata": {
    "colab": {
     "base_uri": "https://localhost:8080/",
     "height": 237
    },
    "colab_type": "code",
    "id": "HTbmZv3YE7Fs",
    "outputId": "d6bb5b23-201b-4c2f-cf88-37f90bb5f6a6",
    "scrolled": false
   },
   "outputs": [
    {
     "name": "stdout",
     "output_type": "stream",
     "text": [
      "Epoch 01 | Batch 468 | Train NLL: 0.28125 | Train Accuracy: 0.95  | Test NLL: 0.16365  | Test Accuracy: 0.95\n",
      "Epoch 02 | Batch 468 | Train NLL: 0.22000 | Train Accuracy: 0.97  | Test NLL: 0.11708  | Test Accuracy: 0.96\n",
      "Epoch 03 | Batch 468 | Train NLL: 0.19393 | Train Accuracy: 0.98  | Test NLL: 0.10237  | Test Accuracy: 0.97\n",
      "Epoch 04 | Batch 468 | Train NLL: 0.17753 | Train Accuracy: 0.99  | Test NLL: 0.10020  | Test Accuracy: 0.97\n",
      "Epoch 05 | Batch 468 | Train NLL: 0.16433 | Train Accuracy: 0.99  | Test NLL: 0.10149  | Test Accuracy: 0.97\n",
      "Epoch 06 | Batch 468 | Train NLL: 0.16337 | Train Accuracy: 0.99  | Test NLL: 0.10755  | Test Accuracy: 0.97\n",
      "Epoch 07 | Batch 468 | Train NLL: 0.18183 | Train Accuracy: 0.98  | Test NLL: 0.11755  | Test Accuracy: 0.97\n",
      "Epoch 08 | Batch 468 | Train NLL: 0.16449 | Train Accuracy: 0.99  | Test NLL: 0.11628  | Test Accuracy: 0.97\n",
      "Epoch 09 | Batch 468 | Train NLL: 0.17479 | Train Accuracy: 0.99  | Test NLL: 0.10764  | Test Accuracy: 0.98\n",
      "Epoch 10 | Batch 468 | Train NLL: 0.04956 | Train Accuracy: 0.99  | Test NLL: 0.12826  | Test Accuracy: 0.97\n",
      "Epoch 11 | Batch 468 | Train NLL: 0.05232 | Train Accuracy: 0.99  | Test NLL: 0.12345  | Test Accuracy: 0.97\n",
      "Epoch 12 | Batch 468 | Train NLL: 0.08095 | Train Accuracy: 0.98  | Test NLL: 0.13259  | Test Accuracy: 0.98\n",
      "Epoch 13 | Batch 468 | Train NLL: 0.08790 | Train Accuracy: 0.99  | Test NLL: 0.14229  | Test Accuracy: 0.97\n",
      "Epoch 14 | Batch 468 | Train NLL: 0.04515 | Train Accuracy: 0.99  | Test NLL: 0.12721  | Test Accuracy: 0.98\n",
      "Epoch 15 | Batch 468 | Train NLL: 0.00014 | Train Accuracy: 1.00  | Test NLL: 0.14462  | Test Accuracy: 0.97\n",
      "Epoch 16 | Batch 468 | Train NLL: 0.01411 | Train Accuracy: 0.99  | Test NLL: 0.16185  | Test Accuracy: 0.97\n",
      "Epoch 17 | Batch 468 | Train NLL: 0.00118 | Train Accuracy: 1.00  | Test NLL: 0.13299  | Test Accuracy: 0.98\n",
      "Epoch 18 | Batch 468 | Train NLL: 0.00205 | Train Accuracy: 1.00  | Test NLL: 0.15528  | Test Accuracy: 0.98\n",
      "Epoch 19 | Batch 468 | Train NLL: 0.00182 | Train Accuracy: 1.00  | Test NLL: 0.13151  | Test Accuracy: 0.98\n",
      "Epoch 20 | Batch 468 | Train NLL: 0.00031 | Train Accuracy: 1.00  | Test NLL: 0.16055  | Test Accuracy: 0.98\n"
     ]
    }
   ],
   "source": [
    "for epoch in range(EPOCHS_NO):\n",
    "    for b_no, idx in enumerate(range(0, len(train_imgs), BATCH_SIZE)):\n",
    "        # 1. Prepare next batch\n",
    "        x = train_imgs[idx:idx + BATCH_SIZE,:,:].reshape(-1, 784)\n",
    "        t = train_labels[idx:idx + BATCH_SIZE]\n",
    "        \n",
    "        # TODO <8> : Compute gradient\n",
    "        \"\"\"\n",
    "        LI YANZHE\n",
    "        \"\"\"\n",
    "        # 2. Compute gradient\n",
    "        # process forward propagation\n",
    "        y = net.forward(x)\n",
    "        loss = nll.forward(y, t)\n",
    "        # compute dy\n",
    "        dy = nll.backward(y, t)\n",
    "        # process backward propagation\n",
    "        net.backward(dy)\n",
    "        \n",
    "        # raise NotImplementedError\n",
    "        # 3. Update network parameters\n",
    "        net.update(**optimize_args)\n",
    "        \n",
    "        print(f'\\rEpoch {epoch + 1:02d} '\n",
    "              f'| Batch {b_no:03d} '\n",
    "              f'| Train NLL: {loss:3.5f} '\n",
    "              f'| Train Accuracy: {accuracy(y, t):3.2f} ', end='')\n",
    "\n",
    "    y = net.forward(test_imgs.reshape(-1, 784), train=False)\n",
    "    test_nll = nll.forward(y, test_labels)\n",
    "    print(f' | Test NLL: {test_nll:3.5f} '\n",
    "          f' | Test Accuracy: {accuracy(y, test_labels):3.2f}')"
   ]
  },
  {
   "cell_type": "markdown",
   "metadata": {},
   "source": [
    "## 5. Pradict Number"
   ]
  },
  {
   "cell_type": "code",
   "execution_count": 13,
   "metadata": {},
   "outputs": [
    {
     "name": "stdout",
     "output_type": "stream",
     "text": [
      "Pradict Labels: [3 1 6 2 1 0 1 1 6 4 5 4 8 6 6]\n",
      "Correct Labels: [3 1 6 2 1 0 1 1 6 4 5 4 8 6 6]\n"
     ]
    },
    {
     "data": {
      "image/png": "[encoded data removed]",
      "text/plain": [
       "<Figure size 432x288 with 1 Axes>"
      ]
     },
     "metadata": {
      "needs_background": "light"
     },
     "output_type": "display_data"
    }
   ],
   "source": [
    "# random get number\n",
    "idxs = np.random.randint(0, len(train_imgs), 15)\n",
    "imgs = np.concatenate(tuple(train_imgs[idx,:,:] for idx in idxs), axis=1)\n",
    "x = np.array([train_imgs[idx,:,:] for idx in idxs]).reshape(-1,784)\n",
    "#pradicate number\n",
    "y = net.forward(x)\n",
    "y = np.argmax(y,axis=1)\n",
    "plt.imshow(imgs)\n",
    "print(\"Pradict Labels:\",y)\n",
    "print(\"Correct Labels:\",train_labels[idxs])"
   ]
  }
 ],
 "metadata": {
  "colab": {
   "name": "Feed-forward nets for image classification.ipynb",
   "provenance": [],
   "version": "0.3.2"
  },
  "kernelspec": {
   "display_name": "Python 3",
   "language": "python",
   "name": "python3"
  },
  "language_info": {
   "codemirror_mode": {
    "name": "ipython",
    "version": 3
   },
   "file_extension": ".py",
   "mimetype": "text/x-python",
   "name": "python",
   "nbconvert_exporter": "python",
   "pygments_lexer": "ipython3",
   "version": "3.7.1"
  }
 },
 "nbformat": 4,
 "nbformat_minor": 1
}
