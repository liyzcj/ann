{
 "cells": [
  {
   "cell_type": "markdown",
   "metadata": {
    "colab_type": "text",
    "id": "tmaHAc_KHG_5"
   },
   "source": [
    "# Feed-forward nets for image classification"
   ]
  },
  {
   "cell_type": "markdown",
   "metadata": {
    "colab_type": "text",
    "id": "zgNIWhzoHOIz"
   },
   "source": [
    "## 1. The MNIST dataset"
   ]
  },
  {
   "cell_type": "code",
   "execution_count": 1,
   "metadata": {
    "colab": {},
    "colab_type": "code",
    "id": "dQiqJyO7E7Ek"
   },
   "outputs": [],
   "source": [
    "#!pip install mnist\n",
    "\n",
    "import mnist\n",
    "train_imgs = mnist.train_images()\n",
    "train_labels = mnist.train_labels()\n",
    "test_imgs = mnist.test_images()\n",
    "test_labels  = mnist.test_labels()"
   ]
  },
  {
   "cell_type": "markdown",
   "metadata": {},
   "source": [
    "### Data standardization\n",
    "\n",
    "Rescale input values to have zero mean and standard deviation of one."
   ]
  },
  {
   "cell_type": "code",
   "execution_count": 2,
   "metadata": {},
   "outputs": [],
   "source": [
    "mean, std  = train_imgs.mean(), train_imgs.std()\n",
    "train_imgs = (train_imgs - mean) / std\n",
    "test_imgs = (test_imgs - mean) / std"
   ]
  },
  {
   "cell_type": "markdown",
   "metadata": {},
   "source": [
    "### See some inputs"
   ]
  },
  {
   "cell_type": "code",
   "execution_count": 3,
   "metadata": {
    "colab": {
     "base_uri": "https://localhost:8080/",
     "height": 99
    },
    "colab_type": "code",
    "id": "qeftJ_CpE7Eu",
    "outputId": "c7a9a956-0114-4975-90a0-8af5b2007c2b"
   },
   "outputs": [],
   "source": [
    "from typing import List\n",
    "import numpy as np\n",
    "%matplotlib inline\n",
    "import matplotlib.pyplot as plt"
   ]
  },
  {
   "cell_type": "code",
   "execution_count": 4,
   "metadata": {
    "colab": {
     "base_uri": "https://localhost:8080/",
     "height": 99
    },
    "colab_type": "code",
    "id": "qeftJ_CpE7Eu",
    "outputId": "c7a9a956-0114-4975-90a0-8af5b2007c2b"
   },
   "outputs": [
    {
     "name": "stdout",
     "output_type": "stream",
     "text": [
      "Labels: [5 0 8 9 0 4 7 9 7 0 6 8 6 7 1]\n"
     ]
    },
    {
     "data": {
      "image/png": "[encoded data removed]",
      "text/plain": [
       "<Figure size 432x288 with 1 Axes>"
      ]
     },
     "metadata": {
      "needs_background": "light"
     },
     "output_type": "display_data"
    }
   ],
   "source": [
    "idxs = np.random.randint(0, len(train_imgs), 15)\n",
    "imgs = np.concatenate(tuple(train_imgs[idx,:,:] for idx in idxs), axis=1)\n",
    "plt.imshow(imgs)\n",
    "print(\"Labels:\", train_labels[idxs])"
   ]
  },
  {
   "cell_type": "markdown",
   "metadata": {
    "colab_type": "text",
    "id": "ZgERUA07IuSr"
   },
   "source": [
    "## 2. Building feed forward-networks"
   ]
  },
  {
   "cell_type": "markdown",
   "metadata": {},
   "source": [
    "### Layers\n",
    "\n",
    "Each layer will have three methods:\n",
    " - `forward` computes and returns ${\\bf y}^{(l)} = f_l\\left({\\bf x}^{(l)}, {\\bf w}^{(l)}\\right)$\n",
    " - `backward` gets $\\frac{\\partial {\\cal L}}{\\partial {\\bf y}^{(l)}}$, and stores $\\frac{\\partial {\\cal L}}{\\partial {\\bf w}^{(l)}}$ internally, and returns $\\frac{\\partial {\\cal L}}{\\partial {\\bf w}^{(l)}}$\n",
    " - `update` modifies parameters ${\\bf w}^{(l)}$ using stored $\\frac{\\partial{\\cal L}}{\\partial{\\bf w}}$"
   ]
  },
  {
   "cell_type": "code",
   "execution_count": 5,
   "metadata": {},
   "outputs": [],
   "source": [
    "class Layer:\n",
    "\n",
    "    def forward(self, x: np.ndarray) -> np.ndarray:\n",
    "        raise NotImplementedError\n",
    "        \n",
    "    def backward(self, x: np.ndarray, dy: np.ndarray) -> np.ndarray:\n",
    "        raise NotImplementedError\n",
    "        \n",
    "    def update(self, *args, **kwargs):\n",
    "        pass  # If a layer has no parameters, then this function does nothing"
   ]
  },
  {
   "cell_type": "markdown",
   "metadata": {},
   "source": [
    "### The feed-forward netowork"
   ]
  },
  {
   "cell_type": "code",
   "execution_count": 6,
   "metadata": {},
   "outputs": [],
   "source": [
    "class FeedForwardNetwork:\n",
    "    \n",
    "    def __init__(self, layers: List[Layer]):\n",
    "        self.layers = layers\n",
    "        \n",
    "    def forward(self, x: np.ndarray, train: bool = True) -> np.ndarray:\n",
    "        self._inputs = []\n",
    "        for layer in self.layers:\n",
    "            if train:\n",
    "                self._inputs.append(x)\n",
    "            x = layer.forward(x)\n",
    "        return x\n",
    "    \n",
    "    def backward(self, dy:np.ndarray) -> np.ndarray:\n",
    "        # TODO <0> : Compute the backward phase\n",
    "        \"\"\"\n",
    "        LI YANZHE\n",
    "        \"\"\"\n",
    "        for layer in self.layers[::-1]:\n",
    "            dy = layer.backward(self._inputs.pop(), dy)\n",
    "            \n",
    "        # return dy\n",
    "        #raise NotImplementedError\n",
    "        del self._inputs\n",
    "    \n",
    "    def update(self, *args, **kwargs):\n",
    "        for layer in self.layers:\n",
    "            layer.update(*args, **kwargs)"
   ]
  },
  {
   "cell_type": "markdown",
   "metadata": {},
   "source": [
    "### The linear layer"
   ]
  },
  {
   "cell_type": "code",
   "execution_count": 7,
   "metadata": {
    "colab": {},
    "colab_type": "code",
    "id": "S47ZsyKdE7FF"
   },
   "outputs": [],
   "source": [
    "class Linear(Layer):\n",
    "    \n",
    "    def __init__(self, insize: int, outsize: int) -> None:\n",
    "        bound = np.sqrt(6. / insize)\n",
    "        self.weight = np.random.uniform(-bound, bound, (insize, outsize))\n",
    "        self.bias = np.zeros((outsize,))\n",
    "        \n",
    "        self.dweight = np.zeros_like(self.weight)\n",
    "        self.dbias = np.zeros_like(self.bias)\n",
    "\n",
    "        \n",
    "    def forward(self, x: np.ndarray) -> np.ndarray:\n",
    "        # TODO <1> : compute the output of a linear layer\n",
    "        \"\"\"\n",
    "        LI YANZHE\n",
    "        \"\"\"\n",
    "        out = np.dot(x, self.weight) + self.bias\n",
    "        # self.a = output\n",
    "        return out\n",
    "        raise NotImplementedError\n",
    "    \n",
    "    def backward(self, x: np.ndarray, dy: np.ndarray) -> np.ndarray:\n",
    "        # TODO <2> : compute dweight, dbias and  return dx\n",
    "        \"\"\"\n",
    "        LI YANZHE\n",
    "        \"\"\"\n",
    "        self.dweight = np.dot(np.transpose(x), dy)\n",
    "        self.dbias = np.sum(dy, axis=0)\n",
    "        \n",
    "        dx = np.dot(dy, np.transpose(self.weight))\n",
    "        return dx\n",
    "        raise NotImplementedError\n",
    "    \n",
    "    def update(self, mode='SGD', lr=0.001, mu=.9):\n",
    "        if mode == 'SGD':\n",
    "            self.weight -= lr * self.dweight\n",
    "            self.bias -= lr * self.dbias\n",
    "        elif mode == 'Nesterov':\n",
    "            # TODO <9> : compute the nesterov update (for Lab 2)\n",
    "            raise NotImplementedError\n",
    "        elif mode == 'Adam':\n",
    "            # TODO <10> : compute the Adam update  (for Lab 2)\n",
    "            raise NotImplementedError"
   ]
  },
  {
   "cell_type": "markdown",
   "metadata": {},
   "source": [
    "### The Rectified Linear Unit\n",
    "$$y = \\max\\left(x, 0\\right)$$"
   ]
  },
  {
   "cell_type": "code",
   "execution_count": 8,
   "metadata": {
    "colab": {},
    "colab_type": "code",
    "id": "QOR1DJiwE7FJ"
   },
   "outputs": [],
   "source": [
    "class ReLU(Layer):\n",
    "    \n",
    "    def __init__(self) -> None:\n",
    "        pass\n",
    "    \n",
    "    def forward(self, x: np.ndarray) -> np.ndarray:\n",
    "        # TODO <3> : Compute the output of a rectified linear unit\n",
    "        \"\"\"\n",
    "        LI YANZHE\n",
    "        \"\"\"\n",
    "        x = x * (x > 0)\n",
    "        return x\n",
    "        raise NotImplementedError\n",
    "    \n",
    "    def backward(self, x: np.ndarray, dy: np.ndarray) -> np.ndarray:\n",
    "        # TODO <4> : Compute the gradient w.r.t. x\n",
    "        \"\"\"\n",
    "        LI YANZHE\n",
    "        \"\"\"\n",
    "        dx = dy * (x > 0)\n",
    "        return dx\n",
    "        raise NotImplementedError"
   ]
  },
  {
   "cell_type": "markdown",
   "metadata": {
    "colab_type": "text",
    "id": "4NrWBTmbI9gW"
   },
   "source": [
    "## 3. The loss function\n",
    "\n",
    "   The negative log likelihood combines a softmax activation, and a cross-entropy cost."
   ]
  },
  {
   "cell_type": "code",
   "execution_count": 9,
   "metadata": {
    "colab": {},
    "colab_type": "code",
    "id": "YDXiDEu8E7FW"
   },
   "outputs": [],
   "source": [
    "class NegativeLogLikelihood:\n",
    "    \n",
    "    def __init__(self):\n",
    "        pass\n",
    "\n",
    "    def forward(self, y: np.ndarray, t: np.ndarray) -> float:\n",
    "        # TODO <5> : Compute the negative log likelihood\n",
    "        \"\"\"\n",
    "        LI YANZHE\n",
    "        \"\"\"\n",
    "        # process t\n",
    "        m = t.shape[0]\n",
    "        T = np.repeat(np.arange(10).reshape(1,10), m, axis=0)\n",
    "        t = t.reshape(-1,1)\n",
    "        T = T == t\n",
    "        # softmax \n",
    "        s = np.exp(y) / np.sum(np.exp(y), axis=1).reshape(-1,1)\n",
    "        loss = - np.sum(T * np.log(s))/m\n",
    "        return loss\n",
    "        raise NotImplementedError\n",
    "    \n",
    "    def backward(self, y: np.ndarray, t: np.ndarray) -> np.ndarray:\n",
    "        # TODO <6> : Compute dl/dy\n",
    "        \"\"\"\n",
    "        LI YANZHE\n",
    "        \"\"\"\n",
    "        m = t.shape[0]\n",
    "        T = np.repeat(np.arange(10).reshape(1,10), m, axis=0)\n",
    "        t = t.reshape(-1,1)\n",
    "        T = T == t\n",
    "        # softmax \n",
    "        s = np.exp(y) / np.sum(np.exp(y), axis=1).reshape(-1,1)\n",
    "        dy = s - T\n",
    "        return dy\n",
    "        raise NotImplementedError"
   ]
  },
  {
   "cell_type": "markdown",
   "metadata": {
    "colab_type": "text",
    "id": "Uz9qM5eHJLNw"
   },
   "source": [
    "### Accuracy"
   ]
  },
  {
   "cell_type": "code",
   "execution_count": 10,
   "metadata": {
    "colab": {},
    "colab_type": "code",
    "id": "3nYfVCBSE7Fe"
   },
   "outputs": [],
   "source": [
    "def accuracy(y: np.ndarray, t: np.ndarray) -> float:\n",
    "    # TODO <7> : Compute accuracy\n",
    "    \"\"\"\n",
    "    LI YANZHE\n",
    "    \"\"\"\n",
    "    # process t\n",
    "    m = t.shape[0]\n",
    "    T = np.repeat(np.arange(10).reshape(1,10), m, axis=0)\n",
    "    t = t.reshape(-1,1)\n",
    "    T = T == t\n",
    "    # compute accuracy\n",
    "    a = np.sum(y * T) / m\n",
    "    return a\n",
    "    raise NotImplementedError"
   ]
  },
  {
   "cell_type": "markdown",
   "metadata": {
    "colab_type": "text",
    "id": "mIhtzd2gJQF2"
   },
   "source": [
    "## 4. Training a neural network"
   ]
  },
  {
   "cell_type": "code",
   "execution_count": 11,
   "metadata": {
    "colab": {
     "base_uri": "https://localhost:8080/",
     "height": 237
    },
    "colab_type": "code",
    "id": "HTbmZv3YE7Fs",
    "outputId": "d6bb5b23-201b-4c2f-cf88-37f90bb5f6a6"
   },
   "outputs": [
    {
     "name": "stdout",
     "output_type": "stream",
     "text": [
      "Epoch 01 | Batch 468 | Train NLL: 0.30067 | Train Accuracy: 10.02  | Test NLL: 0.15565  | Test Accuracy: 11.05\n",
      "Epoch 02 | Batch 468 | Train NLL: 0.26538 | Train Accuracy: 11.40  | Test NLL: 0.13587  | Test Accuracy: 12.79\n",
      "Epoch 03 | Batch 468 | Train NLL: 0.21125 | Train Accuracy: 12.30  | Test NLL: 0.10734  | Test Accuracy: 13.84\n",
      "Epoch 04 | Batch 468 | Train NLL: 0.20060 | Train Accuracy: 13.33  | Test NLL: 0.10005  | Test Accuracy: 15.00\n",
      "Epoch 05 | Batch 468 | Train NLL: 0.19214 | Train Accuracy: 14.28  | Test NLL: 0.10122  | Test Accuracy: 16.28\n",
      "Epoch 06 | Batch 468 | Train NLL: 0.18737 | Train Accuracy: 14.96  | Test NLL: 0.09821  | Test Accuracy: 17.25\n",
      "Epoch 07 | Batch 468 | Train NLL: 0.17800 | Train Accuracy: 15.83  | Test NLL: 0.09683  | Test Accuracy: 18.23\n",
      "Epoch 08 | Batch 468 | Train NLL: 0.15782 | Train Accuracy: 16.64  | Test NLL: 0.09674  | Test Accuracy: 19.20\n",
      "Epoch 09 | Batch 468 | Train NLL: 0.14905 | Train Accuracy: 17.33  | Test NLL: 0.09638  | Test Accuracy: 19.98\n",
      "Epoch 10 | Batch 468 | Train NLL: 0.13317 | Train Accuracy: 18.14  | Test NLL: 0.09929  | Test Accuracy: 20.86\n",
      "Epoch 11 | Batch 468 | Train NLL: 0.11564 | Train Accuracy: 18.67  | Test NLL: 0.09767  | Test Accuracy: 21.39\n",
      "Epoch 12 | Batch 468 | Train NLL: 0.10441 | Train Accuracy: 19.30  | Test NLL: 0.10078  | Test Accuracy: 22.03\n",
      "Epoch 13 | Batch 468 | Train NLL: 0.08596 | Train Accuracy: 19.73  | Test NLL: 0.10119  | Test Accuracy: 22.55\n",
      "Epoch 14 | Batch 468 | Train NLL: 0.06981 | Train Accuracy: 20.15  | Test NLL: 0.10214  | Test Accuracy: 23.11\n",
      "Epoch 15 | Batch 468 | Train NLL: 0.05103 | Train Accuracy: 20.49  | Test NLL: 0.10217  | Test Accuracy: 23.56\n",
      "Epoch 16 | Batch 468 | Train NLL: 0.03637 | Train Accuracy: 20.82  | Test NLL: 0.10305  | Test Accuracy: 24.01\n",
      "Epoch 17 | Batch 468 | Train NLL: 0.02422 | Train Accuracy: 21.13  | Test NLL: 0.10355  | Test Accuracy: 24.36\n",
      "Epoch 18 | Batch 468 | Train NLL: 0.01447 | Train Accuracy: 21.38  | Test NLL: 0.10486  | Test Accuracy: 24.62\n",
      "Epoch 19 | Batch 468 | Train NLL: 0.00844 | Train Accuracy: 21.60  | Test NLL: 0.10514  | Test Accuracy: 24.98\n",
      "Epoch 20 | Batch 468 | Train NLL: 0.00629 | Train Accuracy: 21.85  | Test NLL: 0.10590  | Test Accuracy: 25.25\n"
     ]
    }
   ],
   "source": [
    "BATCH_SIZE = 128\n",
    "HIDDEN_UNITS = 200\n",
    "EPOCHS_NO = 20\n",
    "\n",
    "optimize_args = {'mode': 'SGD', 'lr': .003}\n",
    "\n",
    "net = FeedForwardNetwork([Linear(784, HIDDEN_UNITS),\n",
    "                          ReLU(),\n",
    "                          Linear(HIDDEN_UNITS, 10)])\n",
    "nll = NegativeLogLikelihood()\n",
    "\n",
    "for epoch in range(EPOCHS_NO):\n",
    "    for b_no, idx in enumerate(range(0, len(train_imgs), BATCH_SIZE)):\n",
    "        # 1. Prepare next batch\n",
    "        x = train_imgs[idx:idx + BATCH_SIZE,:,:].reshape(-1, 784)\n",
    "        t = train_labels[idx:idx + BATCH_SIZE]\n",
    "        \n",
    "        # TODO <8> : Compute gradient\n",
    "        \"\"\"\n",
    "        LI YANZHE\n",
    "        \"\"\"\n",
    "        # 2. Compute gradient\n",
    "        # process forward propagation\n",
    "        y = net.forward(x)\n",
    "        loss = nll.forward(y, t)\n",
    "        # compute dy\n",
    "        dy = nll.backward(y, t)\n",
    "        # process backward propagation\n",
    "        net.backward(dy)\n",
    "        \n",
    "        # raise NotImplementedError\n",
    "        # 3. Update network parameters\n",
    "        net.update(**optimize_args)\n",
    "        \n",
    "        print(f'\\rEpoch {epoch + 1:02d} '\n",
    "              f'| Batch {b_no:03d} '\n",
    "              f'| Train NLL: {loss:3.5f} '\n",
    "              f'| Train Accuracy: {accuracy(y, t):3.2f} ', end='')\n",
    "\n",
    "    y = net.forward(test_imgs.reshape(-1, 784), train=False)\n",
    "    test_nll = nll.forward(y, test_labels)\n",
    "    print(f' | Test NLL: {test_nll:3.5f} '\n",
    "          f' | Test Accuracy: {accuracy(y, test_labels):3.2f}')"
   ]
  },
  {
   "cell_type": "code",
   "execution_count": null,
   "metadata": {},
   "outputs": [],
   "source": []
  }
 ],
 "metadata": {
  "colab": {
   "name": "Feed-forward nets for image classification.ipynb",
   "provenance": [],
   "version": "0.3.2"
  },
  "kernelspec": {
   "display_name": "Python 3",
   "language": "python",
   "name": "python3"
  },
  "language_info": {
   "codemirror_mode": {
    "name": "ipython",
    "version": 3
   },
   "file_extension": ".py",
   "mimetype": "text/x-python",
   "name": "python",
   "nbconvert_exporter": "python",
   "pygments_lexer": "ipython3",
   "version": "3.7.0"
  }
 },
 "nbformat": 4,
 "nbformat_minor": 1
}
