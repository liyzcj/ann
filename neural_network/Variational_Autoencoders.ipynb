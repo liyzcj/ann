{
  "nbformat": 4,
  "nbformat_minor": 0,
  "metadata": {
    "colab": {
      "name": "Variational_Autoencoders.ipynb",
      "version": "0.3.2",
      "provenance": [],
      "collapsed_sections": [],
      "include_colab_link": true
    },
    "kernelspec": {
      "name": "python3",
      "display_name": "Python 3"
    },
    "accelerator": "GPU"
  },
  "cells": [
    {
      "cell_type": "markdown",
      "metadata": {
        "id": "view-in-github",
        "colab_type": "text"
      },
      "source": [
        "<a href=\"https://colab.research.google.com/github/liyzcj/ann/blob/master/neural_network/Variational_Autoencoders.ipynb\" target=\"_parent\"><img src=\"https://colab.research.google.com/assets/colab-badge.svg\" alt=\"Open In Colab\"/></a>"
      ]
    },
    {
      "metadata": {
        "id": "fe9J5R8u8hxM",
        "colab_type": "text"
      },
      "cell_type": "markdown",
      "source": [
        "# Variational Autoencoders\n",
        "## 1. Miscellaneous"
      ]
    },
    {
      "metadata": {
        "id": "od7h20T97Y9c",
        "colab_type": "code",
        "colab": {}
      },
      "cell_type": "code",
      "source": [
        "# Install PyTorch 0.4.1 with CUDA support\n",
        "\n",
        "from os.path import exists\n",
        "from wheel.pep425tags import get_abbr_impl, get_impl_ver, get_abi_tag\n",
        "platform = '{}{}-{}'.format(get_abbr_impl(), get_impl_ver(), get_abi_tag())\n",
        "cuda_output = !ldconfig -p|grep cudart.so|sed -e 's/.*\\.\\([0-9]*\\)\\.\\([0-9]*\\)$/cu\\1\\2/'\n",
        "accelerator = cuda_output[0] if exists('/dev/nvidia0') else 'cpu'\n",
        "\n",
        "!pip install -q http://download.pytorch.org/whl/{accelerator}/torch-0.4.1-{platform}-linux_x86_64.whl torchvision"
      ],
      "execution_count": 0,
      "outputs": []
    },
    {
      "metadata": {
        "id": "c_XBQqbs-OpT",
        "colab_type": "code",
        "colab": {}
      },
      "cell_type": "code",
      "source": [
        "#@title Test PyTorch with CUDA\n",
        "\n",
        "import torch\n",
        "from torch import Tensor\n",
        "assert torch.cuda.is_available()"
      ],
      "execution_count": 0,
      "outputs": []
    },
    {
      "metadata": {
        "id": "jczhbJUtBfLq",
        "colab_type": "code",
        "colab": {}
      },
      "cell_type": "code",
      "source": [
        "import matplotlib.pyplot as plt\n",
        "from math import ceil\n",
        "\n",
        "def show_images(X: torch.Tensor, nrows=3):\n",
        "  ncols = int(ceil(len(X) / nrows))\n",
        "  ratio = nrows / ncols\n",
        "  fig, axs = plt.subplots(nrows=nrows, ncols=ncols, figsize=(10, 10 * ratio))\n",
        "  for idx, img in enumerate(X):\n",
        "    r, c = idx // ncols, idx % ncols\n",
        "    axs[r][c].imshow(img[0].numpy(), aspect='equal', vmin=0, vmax=1)\n",
        "    \n",
        "  for row_axs in axs:\n",
        "    for ax in row_axs:\n",
        "      ax.set_aspect('equal', 'box')\n",
        "      ax.set_yticklabels([])\n",
        "      ax.set_xticklabels([])\n",
        "  fig.tight_layout()"
      ],
      "execution_count": 0,
      "outputs": []
    },
    {
      "metadata": {
        "id": "YXigSpNFb2CL",
        "colab_type": "text"
      },
      "cell_type": "markdown",
      "source": [
        "## 2. Our dataset"
      ]
    },
    {
      "metadata": {
        "id": "kzGfg9kjetc2",
        "colab_type": "code",
        "outputId": "c251f97d-aef9-4a61-9721-a352b874e428",
        "colab": {
          "base_uri": "https://localhost:8080/",
          "height": 437
        }
      },
      "cell_type": "code",
      "source": [
        "def get_dataset(n, idxs):\n",
        "  X = torch.randn(n * 16) * .1\n",
        "  X[idxs] += 1\n",
        "  X = (X - X.min()) / (X.max() - X.min())\n",
        "  X.clamp_(0, 1)\n",
        "  X = X.reshape(n, 1, 4, 4)\n",
        "  return X\n",
        "\n",
        "\n",
        "n = 15\n",
        "idxs = [2, 6, 8, 9, 10, 11, 14, 17, 21, 24, 25, 26, 27, 29, 35, 39, 43, 44, 45,\n",
        "        46, 47, 48, 49, 50, 51, 52, 56, 60, 64, 68, 69, 70, 71, 72, 76, 80, 81,\n",
        "        82, 83, 84, 88, 92, 98, 102, 104, 105, 106, 107, 110, 112, 113, 114,\n",
        "        115, 116, 120, 124, 131, 135, 139, 140, 141, 142, 143, 147, 151, 155,\n",
        "        156, 157, 158, 159, 162, 166, 168, 169, 170, 171, 174, 178, 182, 186,\n",
        "        188, 189, 190, 191, 193, 196, 197, 198, 199, 201, 205, 209, 212, 213,\n",
        "        214, 215, 217, 221, 225, 228, 229, 230, 231, 233, 237]\n",
        "\n",
        "\n",
        "\n",
        "X = get_dataset(n, idxs)\n",
        "show_images(X)"
      ],
      "execution_count": 0,
      "outputs": [
        {
          "output_type": "display_data",
          "data": {
            "image/png": "[encoded data removed]",
            "text/plain": [
              "<matplotlib.figure.Figure at 0x7ff885dca550>"
            ]
          },
          "metadata": {
            "tags": []
          }
        }
      ]
    },
    {
      "metadata": {
        "id": "WXzgBOLTUiAm",
        "colab_type": "text"
      },
      "cell_type": "markdown",
      "source": [
        "## 3. The Variational Auto-encoder\n",
        "\n",
        "\n",
        "The encoder computes $q_{\\phi}\\left(z \\mid x\\right)$ predicting:\n",
        "\n",
        " - $\\mu_{\\phi}\\left(x\\right)$ and\n",
        " - $\\log \\sigma_{\\phi}^2\\left(x\\right)$.\n",
        " \n",
        " \n",
        " The decoder computes $p_{\\theta}\\left(x \\mid z\\right)$."
      ]
    },
    {
      "metadata": {
        "id": "PdgjduyHk7NH",
        "colab_type": "code",
        "colab": {}
      },
      "cell_type": "code",
      "source": [
        "import torch.nn as nn\n",
        "import torch.nn.functional as F\n",
        "\n",
        "class VAE(nn.Module):\n",
        "  \n",
        "  def __init__(self, nz: int = 1) -> None:\n",
        "    super(VAE, self).__init__()\n",
        "    self.nz = nz  # The number of dimensions in the latent space\n",
        "    self.encoder = nn.Sequential(nn.Linear(16, 64), nn.ReLU())\n",
        "    self.mean = nn.Linear(64, nz)  # predicts the mean of p(z|x)\n",
        "    self.log_var = nn.Linear(64, nz)  # predicts the log-variance of p(z|x)\n",
        "    self.decoder = nn.Sequential(nn.Linear(nz, 64), nn.ReLU(),\n",
        "                                 nn.Linear(64, 16))\n",
        "    \n",
        "  def forward(self, x):\n",
        "    x = x.view(-1, 16)  # Drop this if you use convolutional encoders\n",
        "    \n",
        "    # Encoding x into mu, and log-var of p(z|x)\n",
        "    x = self.encoder(x)\n",
        "    mean = self.mean(x)\n",
        "    log_var = self.log_var(x)\n",
        "    \n",
        "    # ----------------------------------------------------------------\n",
        "    # TODO 1: compute z = (eps * std) + mean (reparametrization trick)\n",
        "    eps = torch.randn(15, self.nz)\n",
        "    noise = mean + torch.exp(log_var / 2) * eps\n",
        "    # ----------------------------------------------------------------\n",
        "    \n",
        "    # Decoding z into p(x|z)\n",
        "    x = self.decoder(noise)\n",
        "    x = torch.sigmoid(x)\n",
        "    \n",
        "    return x.view(-1, 1, 4, 4), mean, log_var\n",
        "  \n",
        "  def generate(self, nsamples: int = None, noise: Tensor = None) -> Tensor:\n",
        "    # Generate some data\n",
        "    with torch.no_grad():\n",
        "      if noise is None:\n",
        "        noise = torch.randn(nsamples, self.nz)      \n",
        "      x = self.decoder(noise)\n",
        "      x = torch.sigmoid(x)\n",
        "      return x.view(-1, 1, 4, 4)"
      ],
      "execution_count": 0,
      "outputs": []
    },
    {
      "metadata": {
        "id": "_77yv2p0ZkM5",
        "colab_type": "text"
      },
      "cell_type": "markdown",
      "source": [
        "## 4. Training the model\n",
        "\n",
        "The optimization criterion has two components.\n",
        "\n",
        " - the KL divergence between $q_{\\phi}\\left(z \\mid x\\right)$ and $p\\left(z\\right)$\n",
        "   * both are diagonal gaussians, therefore we have a simple formula for the KL divergence: [wiki](https://en.wikipedia.org/wiki/Kullback%E2%80%93Leibler_divergence#Examples)\n",
        "   \n",
        " - the reconstriction loss computed using the [binary cross entropy](https://pytorch.org/docs/stable/nn.html#binary-cross-entropy)\n",
        "   "
      ]
    },
    {
      "metadata": {
        "id": "aFf2ZKtSqPVF",
        "colab_type": "code",
        "colab": {}
      },
      "cell_type": "code",
      "source": [
        "import torch.optim as optim\n",
        "import numpy as np\n",
        "\n",
        "def train(vae: VAE, X: torch.Tensor, nsteps: int = 200000):\n",
        "  bce_trace, kl_trace = [], []\n",
        "  optimizer = optim.Adam(vae.parameters(), lr=.001)\n",
        "  \n",
        "  for step in range(nsteps):\n",
        "    optimizer.zero_grad()\n",
        "    rec, mean, log_var = vae(X + torch.randn_like(X) * .05)\n",
        "    \n",
        "    # -----------------------------------------------\n",
        "    # TODO 2: compute the two losses (do not average)\n",
        "    bce = F.binary_cross_entropy(rec, X, size_average=False) / 15\n",
        "    kl = torch.mean(0.5 * torch.sum(torch.exp(log_var) + mean**2 -1.- log_var,1))\n",
        "    # -----------------------------------------------\n",
        "    \n",
        "    (bce + kl).backward()\n",
        "    optimizer.step()\n",
        "    \n",
        "    # Chestiuni pentru afișare\n",
        "    bce_trace.append(bce.item())\n",
        "    kl_trace.append(kl.item())\n",
        "        \n",
        "    if (step + 1) % 100 == 0:\n",
        "      print(f\"\\rStep {step + 1:d}: BCE={np.mean(bce_trace):9.4f}\"\n",
        "            f\"KL={np.mean(kl_trace):9.4f}\", end=\"\")\n",
        "      bce_trace.clear()\n",
        "      kl_trace.clear()\n",
        "      if (step + 1) % 2500 == 0:\n",
        "        print(\"\")"
      ],
      "execution_count": 0,
      "outputs": []
    },
    {
      "metadata": {
        "id": "zUNvzoi8sdFo",
        "colab_type": "code",
        "outputId": "9770aee4-3020-4955-8208-10fbcb1e3fa6",
        "colab": {
          "base_uri": "https://localhost:8080/",
          "height": 1411
        }
      },
      "cell_type": "code",
      "source": [
        "vae = VAE()\n",
        "train(vae, X)"
      ],
      "execution_count": 0,
      "outputs": [
        {
          "output_type": "stream",
          "text": [
            "/usr/local/lib/python3.6/dist-packages/torch/nn/functional.py:52: UserWarning: size_average and reduce args will be deprecated, please use reduction='sum' instead.\n",
            "  warnings.warn(warning.format(ret))\n"
          ],
          "name": "stderr"
        },
        {
          "output_type": "stream",
          "text": [
            "Step 2500: BCE=   8.8326KL=   1.2803\n",
            "Step 5000: BCE=   8.6279KL=   1.3629\n",
            "Step 7500: BCE=   8.5682KL=   1.3880\n",
            "Step 10000: BCE=   8.5048KL=   1.4228\n",
            "Step 12500: BCE=   8.4557KL=   1.4610\n",
            "Step 15000: BCE=   8.4512KL=   1.4108\n",
            "Step 17500: BCE=   8.3911KL=   1.5187\n",
            "Step 20000: BCE=   8.3414KL=   1.4971\n",
            "Step 22500: BCE=   8.2824KL=   1.5697\n",
            "Step 25000: BCE=   8.2352KL=   1.6142\n",
            "Step 27500: BCE=   8.2165KL=   1.5573\n",
            "Step 30000: BCE=   8.1721KL=   1.6365\n",
            "Step 32500: BCE=   8.1505KL=   1.6360\n",
            "Step 35000: BCE=   8.1717KL=   1.6480\n",
            "Step 37500: BCE=   8.1929KL=   1.6400\n",
            "Step 40000: BCE=   8.1170KL=   1.6698\n",
            "Step 42500: BCE=   8.0650KL=   1.7154\n",
            "Step 45000: BCE=   8.1143KL=   1.6611\n",
            "Step 47500: BCE=   8.0774KL=   1.6605\n",
            "Step 50000: BCE=   8.0698KL=   1.6792\n",
            "Step 52500: BCE=   8.0233KL=   1.7284\n",
            "Step 55000: BCE=   8.0300KL=   1.7275\n",
            "Step 57500: BCE=   8.0185KL=   1.7287\n",
            "Step 60000: BCE=   8.0411KL=   1.7019\n",
            "Step 62500: BCE=   8.0074KL=   1.7468\n",
            "Step 65000: BCE=   7.9991KL=   1.7464\n",
            "Step 67500: BCE=   8.0132KL=   1.6893\n",
            "Step 70000: BCE=   7.9765KL=   1.7129\n",
            "Step 72500: BCE=   8.0086KL=   1.7411\n",
            "Step 75000: BCE=   7.9513KL=   1.7309\n",
            "Step 77500: BCE=   7.9670KL=   1.7342\n",
            "Step 80000: BCE=   7.9675KL=   1.7810\n",
            "Step 82500: BCE=   7.9641KL=   1.7657\n",
            "Step 85000: BCE=   7.9799KL=   1.7194\n",
            "Step 87500: BCE=   7.9417KL=   1.7125\n",
            "Step 90000: BCE=   7.9619KL=   1.7440\n",
            "Step 92500: BCE=   7.9293KL=   1.7703\n",
            "Step 95000: BCE=   7.9750KL=   1.7189\n",
            "Step 97500: BCE=   7.9452KL=   1.7444\n",
            "Step 100000: BCE=   7.9890KL=   1.7246\n",
            "Step 102500: BCE=   7.8975KL=   1.7938\n",
            "Step 105000: BCE=   7.9129KL=   1.7774\n",
            "Step 107500: BCE=   7.9563KL=   1.7322\n",
            "Step 110000: BCE=   7.9238KL=   1.7676\n",
            "Step 112500: BCE=   7.9686KL=   1.7250\n",
            "Step 115000: BCE=   7.9252KL=   1.7098\n",
            "Step 117500: BCE=   7.9516KL=   1.7566\n",
            "Step 120000: BCE=   7.9375KL=   1.7230\n",
            "Step 122500: BCE=   7.9332KL=   1.7399\n",
            "Step 125000: BCE=   7.9296KL=   1.7936\n",
            "Step 127500: BCE=   7.9164KL=   1.7363\n",
            "Step 130000: BCE=   7.8917KL=   1.7792\n",
            "Step 132500: BCE=   7.9165KL=   1.7802\n",
            "Step 135000: BCE=   7.9128KL=   1.7615\n",
            "Step 137500: BCE=   7.9033KL=   1.7621\n",
            "Step 140000: BCE=   7.9554KL=   1.7453\n",
            "Step 142500: BCE=   7.9789KL=   1.7317\n",
            "Step 145000: BCE=   7.9457KL=   1.7853\n",
            "Step 147500: BCE=   7.8928KL=   1.8086\n",
            "Step 150000: BCE=   7.9152KL=   1.7831\n",
            "Step 152500: BCE=   7.9280KL=   1.7939\n",
            "Step 155000: BCE=   7.8985KL=   1.7811\n",
            "Step 157500: BCE=   7.8680KL=   1.7535\n",
            "Step 160000: BCE=   7.9003KL=   1.7584\n",
            "Step 162500: BCE=   7.8860KL=   1.7680\n",
            "Step 165000: BCE=   7.9259KL=   1.7428\n",
            "Step 167500: BCE=   7.9553KL=   1.7851\n",
            "Step 170000: BCE=   7.9066KL=   1.8047\n",
            "Step 172500: BCE=   7.8800KL=   1.7968\n",
            "Step 175000: BCE=   7.9611KL=   1.7451\n",
            "Step 177500: BCE=   7.9164KL=   1.7834\n",
            "Step 180000: BCE=   7.8946KL=   1.8056\n",
            "Step 182500: BCE=   7.9173KL=   1.7807\n",
            "Step 185000: BCE=   7.9146KL=   1.8035\n",
            "Step 187500: BCE=   7.9168KL=   1.7782\n",
            "Step 190000: BCE=   7.9205KL=   1.7514\n",
            "Step 192500: BCE=   7.9410KL=   1.7644\n",
            "Step 195000: BCE=   7.9342KL=   1.7839\n",
            "Step 197500: BCE=   7.8951KL=   1.7749\n",
            "Step 200000: BCE=   7.8953KL=   1.8177\n"
          ],
          "name": "stdout"
        }
      ]
    },
    {
      "metadata": {
        "id": "LQZU8-1dUvUM",
        "colab_type": "text"
      },
      "cell_type": "markdown",
      "source": [
        "## 5. Evaluating the model\n",
        "\n",
        "### 5.1 Reconstructions"
      ]
    },
    {
      "metadata": {
        "id": "a6gvi7HyU3Ik",
        "colab_type": "code",
        "outputId": "3f3365b6-35fd-4edb-e012-15b6307e75a7",
        "colab": {
          "base_uri": "https://localhost:8080/",
          "height": 437
        }
      },
      "cell_type": "code",
      "source": [
        "with torch.no_grad():\n",
        "  recon, _, _ = vae(X)\n",
        "  \n",
        "show_images(recon)"
      ],
      "execution_count": 0,
      "outputs": [
        {
          "output_type": "display_data",
          "data": {
            "image/png": "[encoded data removed]",
            "text/plain": [
              "<matplotlib.figure.Figure at 0x7ff885956f28>"
            ]
          },
          "metadata": {
            "tags": []
          }
        }
      ]
    },
    {
      "metadata": {
        "id": "9mLJhHIi0WkF",
        "colab_type": "text"
      },
      "cell_type": "markdown",
      "source": [
        "### 5.2 Samples from the model"
      ]
    },
    {
      "metadata": {
        "id": "giGVCtlsudmp",
        "colab_type": "code",
        "outputId": "3ab5ef20-8274-488f-b4c5-ddf02b7eaaf5",
        "colab": {
          "base_uri": "https://localhost:8080/",
          "height": 437
        }
      },
      "cell_type": "code",
      "source": [
        "X_gen = vae.generate(nsamples=15)\n",
        "show_images(X_gen)"
      ],
      "execution_count": 0,
      "outputs": [
        {
          "output_type": "display_data",
          "data": {
            "image/png": "[encoded data removed]",
            "text/plain": [
              "<matplotlib.figure.Figure at 0x7ff8887a3828>"
            ]
          },
          "metadata": {
            "tags": []
          }
        }
      ]
    },
    {
      "metadata": {
        "id": "aFusc5NL0nhb",
        "colab_type": "text"
      },
      "cell_type": "markdown",
      "source": [
        "### 5.3 Walk the latent space :)"
      ]
    },
    {
      "metadata": {
        "id": "dCYXuGTBwd-b",
        "colab_type": "code",
        "outputId": "e11f17ac-8622-4ee4-db5c-ba38f158dee1",
        "colab": {
          "base_uri": "https://localhost:8080/",
          "height": 725
        }
      },
      "cell_type": "code",
      "source": [
        "N = 36\n",
        "noise = torch.linspace(-2, 2, N).unsqueeze(1)\n",
        "X_gen = vae.generate(noise=noise)\n",
        "show_images(X_gen, nrows=6)"
      ],
      "execution_count": 0,
      "outputs": [
        {
          "output_type": "display_data",
          "data": {
            "image/png": "[encoded data removed]",
            "text/plain": [
              "<matplotlib.figure.Figure at 0x7ff885a6c048>"
            ]
          },
          "metadata": {
            "tags": []
          }
        }
      ]
    }
  ]
}